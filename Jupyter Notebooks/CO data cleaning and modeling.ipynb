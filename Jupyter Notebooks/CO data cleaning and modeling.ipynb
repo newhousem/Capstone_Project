{
 "cells": [
  {
   "cell_type": "markdown",
   "metadata": {},
   "source": [
    "# Data Cleaning and Modeling for Colorado"
   ]
  },
  {
   "cell_type": "markdown",
   "metadata": {},
   "source": [
    "## import necessary libraries"
   ]
  },
  {
   "cell_type": "code",
   "execution_count": 2,
   "metadata": {},
   "outputs": [],
   "source": [
    "import pandas as pd\n",
    "from sklearn.tree import DecisionTreeRegressor\n",
    "from sklearn.model_selection import train_test_split, cross_val_score, GridSearchCV\n",
    "from sklearn.metrics import precision_score, recall_score, accuracy_score, f1_score, plot_confusion_matrix, classification_report, r2_score\n",
    "from sklearn.metrics import mean_absolute_error, mean_squared_error, make_scorer\n",
    "import time\n",
    "import numpy as np\n",
    "import matplotlib.pyplot as plt\n",
    "%matplotlib inline\n",
    "import plotly.express as px\n",
    "import seaborn as sns\n",
    "from sklearn.ensemble import GradientBoostingRegressor\n",
    "from sklearn.model_selection import KFold"
   ]
  },
  {
   "cell_type": "markdown",
   "metadata": {},
   "source": [
    "## Import data for Colorado and clean"
   ]
  },
  {
   "cell_type": "code",
   "execution_count": 3,
   "metadata": {},
   "outputs": [],
   "source": [
    "df = pd.read_csv('Data/covid_cases_per_county.csv')"
   ]
  },
  {
   "cell_type": "code",
   "execution_count": 4,
   "metadata": {},
   "outputs": [],
   "source": [
    "CO = df[df.State == 'CO']"
   ]
  },
  {
   "cell_type": "code",
   "execution_count": 5,
   "metadata": {},
   "outputs": [
    {
     "data": {
      "text/html": [
       "<div>\n",
       "<style scoped>\n",
       "    .dataframe tbody tr th:only-of-type {\n",
       "        vertical-align: middle;\n",
       "    }\n",
       "\n",
       "    .dataframe tbody tr th {\n",
       "        vertical-align: top;\n",
       "    }\n",
       "\n",
       "    .dataframe thead th {\n",
       "        text-align: right;\n",
       "    }\n",
       "</style>\n",
       "<table border=\"1\" class=\"dataframe\">\n",
       "  <thead>\n",
       "    <tr style=\"text-align: right;\">\n",
       "      <th></th>\n",
       "      <th>countyFIPS</th>\n",
       "      <th>County Name</th>\n",
       "      <th>State</th>\n",
       "      <th>StateFIPS</th>\n",
       "      <th>2020-01-22</th>\n",
       "      <th>2020-01-23</th>\n",
       "      <th>2020-01-24</th>\n",
       "      <th>2020-01-25</th>\n",
       "      <th>2020-01-26</th>\n",
       "      <th>2020-01-27</th>\n",
       "      <th>...</th>\n",
       "      <th>2021-03-21</th>\n",
       "      <th>2021-03-22</th>\n",
       "      <th>2021-03-23</th>\n",
       "      <th>2021-03-24</th>\n",
       "      <th>2021-03-25</th>\n",
       "      <th>2021-03-26</th>\n",
       "      <th>2021-03-27</th>\n",
       "      <th>2021-03-28</th>\n",
       "      <th>2021-03-29</th>\n",
       "      <th>2021-03-30</th>\n",
       "    </tr>\n",
       "  </thead>\n",
       "  <tbody>\n",
       "    <tr>\n",
       "      <td>249</td>\n",
       "      <td>0</td>\n",
       "      <td>Statewide Unallocated</td>\n",
       "      <td>CO</td>\n",
       "      <td>8</td>\n",
       "      <td>0</td>\n",
       "      <td>0</td>\n",
       "      <td>0</td>\n",
       "      <td>0</td>\n",
       "      <td>0</td>\n",
       "      <td>0</td>\n",
       "      <td>...</td>\n",
       "      <td>55</td>\n",
       "      <td>55</td>\n",
       "      <td>55</td>\n",
       "      <td>55</td>\n",
       "      <td>57</td>\n",
       "      <td>57</td>\n",
       "      <td>57</td>\n",
       "      <td>57</td>\n",
       "      <td>57</td>\n",
       "      <td>57</td>\n",
       "    </tr>\n",
       "    <tr>\n",
       "      <td>250</td>\n",
       "      <td>8001</td>\n",
       "      <td>Adams County</td>\n",
       "      <td>CO</td>\n",
       "      <td>8</td>\n",
       "      <td>0</td>\n",
       "      <td>0</td>\n",
       "      <td>0</td>\n",
       "      <td>0</td>\n",
       "      <td>0</td>\n",
       "      <td>0</td>\n",
       "      <td>...</td>\n",
       "      <td>50463</td>\n",
       "      <td>50477</td>\n",
       "      <td>50596</td>\n",
       "      <td>50694</td>\n",
       "      <td>50812</td>\n",
       "      <td>50948</td>\n",
       "      <td>51051</td>\n",
       "      <td>51126</td>\n",
       "      <td>51185</td>\n",
       "      <td>51255</td>\n",
       "    </tr>\n",
       "    <tr>\n",
       "      <td>251</td>\n",
       "      <td>8003</td>\n",
       "      <td>Alamosa County</td>\n",
       "      <td>CO</td>\n",
       "      <td>8</td>\n",
       "      <td>0</td>\n",
       "      <td>0</td>\n",
       "      <td>0</td>\n",
       "      <td>0</td>\n",
       "      <td>0</td>\n",
       "      <td>0</td>\n",
       "      <td>...</td>\n",
       "      <td>1337</td>\n",
       "      <td>1338</td>\n",
       "      <td>1338</td>\n",
       "      <td>1338</td>\n",
       "      <td>1338</td>\n",
       "      <td>1339</td>\n",
       "      <td>1341</td>\n",
       "      <td>1343</td>\n",
       "      <td>1343</td>\n",
       "      <td>1343</td>\n",
       "    </tr>\n",
       "    <tr>\n",
       "      <td>252</td>\n",
       "      <td>8005</td>\n",
       "      <td>Arapahoe County</td>\n",
       "      <td>CO</td>\n",
       "      <td>8</td>\n",
       "      <td>0</td>\n",
       "      <td>0</td>\n",
       "      <td>0</td>\n",
       "      <td>0</td>\n",
       "      <td>0</td>\n",
       "      <td>0</td>\n",
       "      <td>...</td>\n",
       "      <td>50778</td>\n",
       "      <td>50814</td>\n",
       "      <td>50963</td>\n",
       "      <td>51090</td>\n",
       "      <td>51234</td>\n",
       "      <td>51352</td>\n",
       "      <td>51482</td>\n",
       "      <td>51603</td>\n",
       "      <td>51685</td>\n",
       "      <td>51762</td>\n",
       "    </tr>\n",
       "    <tr>\n",
       "      <td>253</td>\n",
       "      <td>8007</td>\n",
       "      <td>Archuleta County</td>\n",
       "      <td>CO</td>\n",
       "      <td>8</td>\n",
       "      <td>0</td>\n",
       "      <td>0</td>\n",
       "      <td>0</td>\n",
       "      <td>0</td>\n",
       "      <td>0</td>\n",
       "      <td>0</td>\n",
       "      <td>...</td>\n",
       "      <td>728</td>\n",
       "      <td>728</td>\n",
       "      <td>730</td>\n",
       "      <td>735</td>\n",
       "      <td>737</td>\n",
       "      <td>738</td>\n",
       "      <td>742</td>\n",
       "      <td>745</td>\n",
       "      <td>746</td>\n",
       "      <td>747</td>\n",
       "    </tr>\n",
       "    <tr>\n",
       "      <td>...</td>\n",
       "      <td>...</td>\n",
       "      <td>...</td>\n",
       "      <td>...</td>\n",
       "      <td>...</td>\n",
       "      <td>...</td>\n",
       "      <td>...</td>\n",
       "      <td>...</td>\n",
       "      <td>...</td>\n",
       "      <td>...</td>\n",
       "      <td>...</td>\n",
       "      <td>...</td>\n",
       "      <td>...</td>\n",
       "      <td>...</td>\n",
       "      <td>...</td>\n",
       "      <td>...</td>\n",
       "      <td>...</td>\n",
       "      <td>...</td>\n",
       "      <td>...</td>\n",
       "      <td>...</td>\n",
       "      <td>...</td>\n",
       "      <td>...</td>\n",
       "    </tr>\n",
       "    <tr>\n",
       "      <td>309</td>\n",
       "      <td>8117</td>\n",
       "      <td>Summit County</td>\n",
       "      <td>CO</td>\n",
       "      <td>8</td>\n",
       "      <td>0</td>\n",
       "      <td>0</td>\n",
       "      <td>0</td>\n",
       "      <td>0</td>\n",
       "      <td>0</td>\n",
       "      <td>0</td>\n",
       "      <td>...</td>\n",
       "      <td>3216</td>\n",
       "      <td>3223</td>\n",
       "      <td>3247</td>\n",
       "      <td>3263</td>\n",
       "      <td>3278</td>\n",
       "      <td>3307</td>\n",
       "      <td>3335</td>\n",
       "      <td>3342</td>\n",
       "      <td>3359</td>\n",
       "      <td>3364</td>\n",
       "    </tr>\n",
       "    <tr>\n",
       "      <td>310</td>\n",
       "      <td>8119</td>\n",
       "      <td>Teller County</td>\n",
       "      <td>CO</td>\n",
       "      <td>8</td>\n",
       "      <td>0</td>\n",
       "      <td>0</td>\n",
       "      <td>0</td>\n",
       "      <td>0</td>\n",
       "      <td>0</td>\n",
       "      <td>0</td>\n",
       "      <td>...</td>\n",
       "      <td>1367</td>\n",
       "      <td>1368</td>\n",
       "      <td>1374</td>\n",
       "      <td>1378</td>\n",
       "      <td>1383</td>\n",
       "      <td>1400</td>\n",
       "      <td>1403</td>\n",
       "      <td>1405</td>\n",
       "      <td>1407</td>\n",
       "      <td>1418</td>\n",
       "    </tr>\n",
       "    <tr>\n",
       "      <td>311</td>\n",
       "      <td>8121</td>\n",
       "      <td>Washington County</td>\n",
       "      <td>CO</td>\n",
       "      <td>8</td>\n",
       "      <td>0</td>\n",
       "      <td>0</td>\n",
       "      <td>0</td>\n",
       "      <td>0</td>\n",
       "      <td>0</td>\n",
       "      <td>0</td>\n",
       "      <td>...</td>\n",
       "      <td>429</td>\n",
       "      <td>429</td>\n",
       "      <td>430</td>\n",
       "      <td>431</td>\n",
       "      <td>431</td>\n",
       "      <td>433</td>\n",
       "      <td>434</td>\n",
       "      <td>435</td>\n",
       "      <td>436</td>\n",
       "      <td>436</td>\n",
       "    </tr>\n",
       "    <tr>\n",
       "      <td>312</td>\n",
       "      <td>8123</td>\n",
       "      <td>Weld County</td>\n",
       "      <td>CO</td>\n",
       "      <td>8</td>\n",
       "      <td>0</td>\n",
       "      <td>0</td>\n",
       "      <td>0</td>\n",
       "      <td>0</td>\n",
       "      <td>0</td>\n",
       "      <td>0</td>\n",
       "      <td>...</td>\n",
       "      <td>26852</td>\n",
       "      <td>26864</td>\n",
       "      <td>26936</td>\n",
       "      <td>26995</td>\n",
       "      <td>27064</td>\n",
       "      <td>27141</td>\n",
       "      <td>27215</td>\n",
       "      <td>27274</td>\n",
       "      <td>27337</td>\n",
       "      <td>27385</td>\n",
       "    </tr>\n",
       "    <tr>\n",
       "      <td>313</td>\n",
       "      <td>8125</td>\n",
       "      <td>Yuma County</td>\n",
       "      <td>CO</td>\n",
       "      <td>8</td>\n",
       "      <td>0</td>\n",
       "      <td>0</td>\n",
       "      <td>0</td>\n",
       "      <td>0</td>\n",
       "      <td>0</td>\n",
       "      <td>0</td>\n",
       "      <td>...</td>\n",
       "      <td>818</td>\n",
       "      <td>818</td>\n",
       "      <td>825</td>\n",
       "      <td>827</td>\n",
       "      <td>828</td>\n",
       "      <td>832</td>\n",
       "      <td>834</td>\n",
       "      <td>834</td>\n",
       "      <td>834</td>\n",
       "      <td>834</td>\n",
       "    </tr>\n",
       "  </tbody>\n",
       "</table>\n",
       "<p>65 rows × 438 columns</p>\n",
       "</div>"
      ],
      "text/plain": [
       "     countyFIPS            County Name State  StateFIPS  2020-01-22  \\\n",
       "249           0  Statewide Unallocated    CO          8           0   \n",
       "250        8001          Adams County     CO          8           0   \n",
       "251        8003        Alamosa County     CO          8           0   \n",
       "252        8005       Arapahoe County     CO          8           0   \n",
       "253        8007      Archuleta County     CO          8           0   \n",
       "..          ...                    ...   ...        ...         ...   \n",
       "309        8117         Summit County     CO          8           0   \n",
       "310        8119         Teller County     CO          8           0   \n",
       "311        8121     Washington County     CO          8           0   \n",
       "312        8123           Weld County     CO          8           0   \n",
       "313        8125           Yuma County     CO          8           0   \n",
       "\n",
       "     2020-01-23  2020-01-24  2020-01-25  2020-01-26  2020-01-27  ...  \\\n",
       "249           0           0           0           0           0  ...   \n",
       "250           0           0           0           0           0  ...   \n",
       "251           0           0           0           0           0  ...   \n",
       "252           0           0           0           0           0  ...   \n",
       "253           0           0           0           0           0  ...   \n",
       "..          ...         ...         ...         ...         ...  ...   \n",
       "309           0           0           0           0           0  ...   \n",
       "310           0           0           0           0           0  ...   \n",
       "311           0           0           0           0           0  ...   \n",
       "312           0           0           0           0           0  ...   \n",
       "313           0           0           0           0           0  ...   \n",
       "\n",
       "     2021-03-21  2021-03-22  2021-03-23  2021-03-24  2021-03-25  2021-03-26  \\\n",
       "249          55          55          55          55          57          57   \n",
       "250       50463       50477       50596       50694       50812       50948   \n",
       "251        1337        1338        1338        1338        1338        1339   \n",
       "252       50778       50814       50963       51090       51234       51352   \n",
       "253         728         728         730         735         737         738   \n",
       "..          ...         ...         ...         ...         ...         ...   \n",
       "309        3216        3223        3247        3263        3278        3307   \n",
       "310        1367        1368        1374        1378        1383        1400   \n",
       "311         429         429         430         431         431         433   \n",
       "312       26852       26864       26936       26995       27064       27141   \n",
       "313         818         818         825         827         828         832   \n",
       "\n",
       "     2021-03-27  2021-03-28  2021-03-29  2021-03-30  \n",
       "249          57          57          57          57  \n",
       "250       51051       51126       51185       51255  \n",
       "251        1341        1343        1343        1343  \n",
       "252       51482       51603       51685       51762  \n",
       "253         742         745         746         747  \n",
       "..          ...         ...         ...         ...  \n",
       "309        3335        3342        3359        3364  \n",
       "310        1403        1405        1407        1418  \n",
       "311         434         435         436         436  \n",
       "312       27215       27274       27337       27385  \n",
       "313         834         834         834         834  \n",
       "\n",
       "[65 rows x 438 columns]"
      ]
     },
     "execution_count": 5,
     "metadata": {},
     "output_type": "execute_result"
    }
   ],
   "source": [
    "CO"
   ]
  },
  {
   "cell_type": "code",
   "execution_count": 6,
   "metadata": {},
   "outputs": [],
   "source": [
    "CO = CO.drop(columns = ['countyFIPS','State','StateFIPS'])"
   ]
  },
  {
   "cell_type": "code",
   "execution_count": 7,
   "metadata": {},
   "outputs": [],
   "source": [
    "CO = CO.drop([249])"
   ]
  },
  {
   "cell_type": "code",
   "execution_count": 8,
   "metadata": {},
   "outputs": [],
   "source": [
    "#CO.set_index(['County'])"
   ]
  },
  {
   "cell_type": "code",
   "execution_count": 9,
   "metadata": {},
   "outputs": [],
   "source": [
    "CO = CO.melt(id_vars=[\"County Name\"], \n",
    "        var_name=\"date\", \n",
    "        value_name=\"Cases\")"
   ]
  },
  {
   "cell_type": "code",
   "execution_count": 10,
   "metadata": {},
   "outputs": [],
   "source": [
    "CO = CO.rename(columns = {'County Name':'County_Name'})"
   ]
  },
  {
   "cell_type": "code",
   "execution_count": 11,
   "metadata": {},
   "outputs": [
    {
     "data": {
      "text/plain": [
       "Pitkin County       434\n",
       "Park County         434\n",
       "Lincoln County      434\n",
       "Adams County        434\n",
       "Pueblo County       434\n",
       "                   ... \n",
       "Fremont County      434\n",
       "Costilla County     434\n",
       "Moffat County       434\n",
       "Bent County         434\n",
       "San Juan County     434\n",
       "Name: County_Name, Length: 64, dtype: int64"
      ]
     },
     "execution_count": 11,
     "metadata": {},
     "output_type": "execute_result"
    }
   ],
   "source": [
    "CO.County_Name.value_counts()"
   ]
  },
  {
   "cell_type": "code",
   "execution_count": 12,
   "metadata": {},
   "outputs": [],
   "source": [
    "x = lambda k: k.replace('City and County of Broomfield','Broomfield County').replace('City and County of Denver','Denver County')\n",
    "CO.County_Name = [x(c[1]) for c in CO.County_Name.items()]"
   ]
  },
  {
   "cell_type": "code",
   "execution_count": 13,
   "metadata": {},
   "outputs": [],
   "source": [
    "CO.date = pd.to_datetime(CO.date)"
   ]
  },
  {
   "cell_type": "code",
   "execution_count": 14,
   "metadata": {},
   "outputs": [],
   "source": [
    "df2 = pd.read_csv('Data/covid_county_population.csv')"
   ]
  },
  {
   "cell_type": "code",
   "execution_count": 15,
   "metadata": {},
   "outputs": [
    {
     "data": {
      "text/html": [
       "<div>\n",
       "<style scoped>\n",
       "    .dataframe tbody tr th:only-of-type {\n",
       "        vertical-align: middle;\n",
       "    }\n",
       "\n",
       "    .dataframe tbody tr th {\n",
       "        vertical-align: top;\n",
       "    }\n",
       "\n",
       "    .dataframe thead th {\n",
       "        text-align: right;\n",
       "    }\n",
       "</style>\n",
       "<table border=\"1\" class=\"dataframe\">\n",
       "  <thead>\n",
       "    <tr style=\"text-align: right;\">\n",
       "      <th></th>\n",
       "      <th>countyFIPS</th>\n",
       "      <th>County Name</th>\n",
       "      <th>State</th>\n",
       "      <th>population</th>\n",
       "    </tr>\n",
       "  </thead>\n",
       "  <tbody>\n",
       "    <tr>\n",
       "      <td>0</td>\n",
       "      <td>0</td>\n",
       "      <td>Statewide Unallocated</td>\n",
       "      <td>AL</td>\n",
       "      <td>0</td>\n",
       "    </tr>\n",
       "    <tr>\n",
       "      <td>1</td>\n",
       "      <td>1001</td>\n",
       "      <td>Autauga County</td>\n",
       "      <td>AL</td>\n",
       "      <td>55869</td>\n",
       "    </tr>\n",
       "    <tr>\n",
       "      <td>2</td>\n",
       "      <td>1003</td>\n",
       "      <td>Baldwin County</td>\n",
       "      <td>AL</td>\n",
       "      <td>223234</td>\n",
       "    </tr>\n",
       "    <tr>\n",
       "      <td>3</td>\n",
       "      <td>1005</td>\n",
       "      <td>Barbour County</td>\n",
       "      <td>AL</td>\n",
       "      <td>24686</td>\n",
       "    </tr>\n",
       "    <tr>\n",
       "      <td>4</td>\n",
       "      <td>1007</td>\n",
       "      <td>Bibb County</td>\n",
       "      <td>AL</td>\n",
       "      <td>22394</td>\n",
       "    </tr>\n",
       "    <tr>\n",
       "      <td>...</td>\n",
       "      <td>...</td>\n",
       "      <td>...</td>\n",
       "      <td>...</td>\n",
       "      <td>...</td>\n",
       "    </tr>\n",
       "    <tr>\n",
       "      <td>3190</td>\n",
       "      <td>56037</td>\n",
       "      <td>Sweetwater County</td>\n",
       "      <td>WY</td>\n",
       "      <td>42343</td>\n",
       "    </tr>\n",
       "    <tr>\n",
       "      <td>3191</td>\n",
       "      <td>56039</td>\n",
       "      <td>Teton County</td>\n",
       "      <td>WY</td>\n",
       "      <td>23464</td>\n",
       "    </tr>\n",
       "    <tr>\n",
       "      <td>3192</td>\n",
       "      <td>56041</td>\n",
       "      <td>Uinta County</td>\n",
       "      <td>WY</td>\n",
       "      <td>20226</td>\n",
       "    </tr>\n",
       "    <tr>\n",
       "      <td>3193</td>\n",
       "      <td>56043</td>\n",
       "      <td>Washakie County</td>\n",
       "      <td>WY</td>\n",
       "      <td>7805</td>\n",
       "    </tr>\n",
       "    <tr>\n",
       "      <td>3194</td>\n",
       "      <td>56045</td>\n",
       "      <td>Weston County</td>\n",
       "      <td>WY</td>\n",
       "      <td>6927</td>\n",
       "    </tr>\n",
       "  </tbody>\n",
       "</table>\n",
       "<p>3195 rows × 4 columns</p>\n",
       "</div>"
      ],
      "text/plain": [
       "      countyFIPS            County Name State  population\n",
       "0              0  Statewide Unallocated    AL           0\n",
       "1           1001         Autauga County    AL       55869\n",
       "2           1003         Baldwin County    AL      223234\n",
       "3           1005         Barbour County    AL       24686\n",
       "4           1007            Bibb County    AL       22394\n",
       "...          ...                    ...   ...         ...\n",
       "3190       56037      Sweetwater County    WY       42343\n",
       "3191       56039           Teton County    WY       23464\n",
       "3192       56041           Uinta County    WY       20226\n",
       "3193       56043        Washakie County    WY        7805\n",
       "3194       56045          Weston County    WY        6927\n",
       "\n",
       "[3195 rows x 4 columns]"
      ]
     },
     "execution_count": 15,
     "metadata": {},
     "output_type": "execute_result"
    }
   ],
   "source": [
    "df2"
   ]
  },
  {
   "cell_type": "code",
   "execution_count": 16,
   "metadata": {},
   "outputs": [],
   "source": [
    "COpop = df2[df2.State == 'CO']"
   ]
  },
  {
   "cell_type": "code",
   "execution_count": 17,
   "metadata": {},
   "outputs": [],
   "source": [
    "COpop = COpop.drop([251])"
   ]
  },
  {
   "cell_type": "code",
   "execution_count": 18,
   "metadata": {},
   "outputs": [],
   "source": [
    "COpop = COpop.drop(columns = ['State', 'countyFIPS'])"
   ]
  },
  {
   "cell_type": "code",
   "execution_count": 19,
   "metadata": {},
   "outputs": [],
   "source": [
    "COpop = COpop.rename(columns = {'County Name':'County_Name'})"
   ]
  },
  {
   "cell_type": "code",
   "execution_count": 20,
   "metadata": {},
   "outputs": [],
   "source": [
    "x = lambda k: k.replace('Broomfield County and City','Broomfield County')\n",
    "COpop.County_Name = [x(c[1]) for c in COpop.County_Name.items()]"
   ]
  },
  {
   "cell_type": "code",
   "execution_count": 21,
   "metadata": {},
   "outputs": [
    {
     "data": {
      "text/plain": [
       "Logan County          1\n",
       "Cheyenne County       1\n",
       "Summit County         1\n",
       "Moffat County         1\n",
       "Montrose County       1\n",
       "                     ..\n",
       "Washington County     1\n",
       "Archuleta County      1\n",
       "Clear Creek County    1\n",
       "Weld County           1\n",
       "Lincoln County        1\n",
       "Name: County_Name, Length: 64, dtype: int64"
      ]
     },
     "execution_count": 21,
     "metadata": {},
     "output_type": "execute_result"
    }
   ],
   "source": [
    "COpop.County_Name.value_counts()"
   ]
  },
  {
   "cell_type": "code",
   "execution_count": 22,
   "metadata": {},
   "outputs": [
    {
     "name": "stderr",
     "output_type": "stream",
     "text": [
      "C:\\Users\\mered\\anaconda3\\envs\\learn-env\\lib\\site-packages\\IPython\\core\\interactiveshell.py:3058: DtypeWarning:\n",
      "\n",
      "Columns (13) have mixed types. Specify dtype option on import or set low_memory=False.\n",
      "\n"
     ]
    }
   ],
   "source": [
    "df = pd.read_csv('Data/Restaurant_orders.csv')"
   ]
  },
  {
   "cell_type": "code",
   "execution_count": 23,
   "metadata": {},
   "outputs": [],
   "source": [
    "## Function to clean restaurant orders data\n",
    "def cleanerR(df):\n",
    "    df['Effective_date'] = pd.to_datetime(df['Effective_date'])\n",
    "    df.drop(columns = ['Effective_NA_Reason', 'Expiration_NA_Reason','Date_Signed','origin_dataset','Source_of_Action','URL','Citation','FIPS_State','FIPS_County','Action','Jurisdiction_Type','Issuing_Jurisdiction','order_code','Business_Type','Current_order_status','Effective_date','Expiration_date'], inplace = True)\n",
    "    df.date = pd.to_datetime(df.date)\n",
    "    df.sort_values(by = 'date', inplace = True)\n",
    "    dfR = df[df.State_Tribe_Territory  == \"CO\"]\n",
    "    dfR.drop(columns = ['State_Tribe_Territory'], inplace = True)\n",
    "    dfR = dfR.rename(columns = {'order_group':'Rest_order'})\n",
    "    return dfR"
   ]
  },
  {
   "cell_type": "code",
   "execution_count": 24,
   "metadata": {},
   "outputs": [
    {
     "name": "stderr",
     "output_type": "stream",
     "text": [
      "C:\\Users\\mered\\anaconda3\\envs\\learn-env\\lib\\site-packages\\pandas\\core\\frame.py:4102: SettingWithCopyWarning:\n",
      "\n",
      "\n",
      "A value is trying to be set on a copy of a slice from a DataFrame\n",
      "\n",
      "See the caveats in the documentation: http://pandas.pydata.org/pandas-docs/stable/user_guide/indexing.html#returning-a-view-versus-a-copy\n",
      "\n"
     ]
    }
   ],
   "source": [
    "dfRCO = cleanerR(df) "
   ]
  },
  {
   "cell_type": "code",
   "execution_count": 25,
   "metadata": {},
   "outputs": [
    {
     "data": {
      "text/html": [
       "<div>\n",
       "<style scoped>\n",
       "    .dataframe tbody tr th:only-of-type {\n",
       "        vertical-align: middle;\n",
       "    }\n",
       "\n",
       "    .dataframe tbody tr th {\n",
       "        vertical-align: top;\n",
       "    }\n",
       "\n",
       "    .dataframe thead th {\n",
       "        text-align: right;\n",
       "    }\n",
       "</style>\n",
       "<table border=\"1\" class=\"dataframe\">\n",
       "  <thead>\n",
       "    <tr style=\"text-align: right;\">\n",
       "      <th></th>\n",
       "      <th>County_Name</th>\n",
       "      <th>date</th>\n",
       "      <th>Rest_order</th>\n",
       "    </tr>\n",
       "  </thead>\n",
       "  <tbody>\n",
       "    <tr>\n",
       "      <td>72124</td>\n",
       "      <td>Archuleta County</td>\n",
       "      <td>2020-03-15</td>\n",
       "      <td>No restriction found</td>\n",
       "    </tr>\n",
       "    <tr>\n",
       "      <td>71832</td>\n",
       "      <td>Arapahoe County</td>\n",
       "      <td>2020-03-15</td>\n",
       "      <td>No restriction found</td>\n",
       "    </tr>\n",
       "    <tr>\n",
       "      <td>71540</td>\n",
       "      <td>Alamosa County</td>\n",
       "      <td>2020-03-15</td>\n",
       "      <td>No restriction found</td>\n",
       "    </tr>\n",
       "    <tr>\n",
       "      <td>71248</td>\n",
       "      <td>Adams County</td>\n",
       "      <td>2020-03-15</td>\n",
       "      <td>No restriction found</td>\n",
       "    </tr>\n",
       "    <tr>\n",
       "      <td>72416</td>\n",
       "      <td>Baca County</td>\n",
       "      <td>2020-03-15</td>\n",
       "      <td>No restriction found</td>\n",
       "    </tr>\n",
       "    <tr>\n",
       "      <td>...</td>\n",
       "      <td>...</td>\n",
       "      <td>...</td>\n",
       "      <td>...</td>\n",
       "    </tr>\n",
       "    <tr>\n",
       "      <td>72707</td>\n",
       "      <td>Baca County</td>\n",
       "      <td>2020-12-31</td>\n",
       "      <td>Open with limitations</td>\n",
       "    </tr>\n",
       "    <tr>\n",
       "      <td>72415</td>\n",
       "      <td>Archuleta County</td>\n",
       "      <td>2020-12-31</td>\n",
       "      <td>Open with limitations</td>\n",
       "    </tr>\n",
       "    <tr>\n",
       "      <td>72123</td>\n",
       "      <td>Arapahoe County</td>\n",
       "      <td>2020-12-31</td>\n",
       "      <td>Open with limitations</td>\n",
       "    </tr>\n",
       "    <tr>\n",
       "      <td>71831</td>\n",
       "      <td>Alamosa County</td>\n",
       "      <td>2020-12-31</td>\n",
       "      <td>Open with limitations</td>\n",
       "    </tr>\n",
       "    <tr>\n",
       "      <td>71539</td>\n",
       "      <td>Adams County</td>\n",
       "      <td>2020-12-31</td>\n",
       "      <td>Open with limitations</td>\n",
       "    </tr>\n",
       "  </tbody>\n",
       "</table>\n",
       "<p>18688 rows × 3 columns</p>\n",
       "</div>"
      ],
      "text/plain": [
       "            County_Name       date             Rest_order\n",
       "72124  Archuleta County 2020-03-15   No restriction found\n",
       "71832   Arapahoe County 2020-03-15   No restriction found\n",
       "71540    Alamosa County 2020-03-15   No restriction found\n",
       "71248      Adams County 2020-03-15   No restriction found\n",
       "72416       Baca County 2020-03-15   No restriction found\n",
       "...                 ...        ...                    ...\n",
       "72707       Baca County 2020-12-31  Open with limitations\n",
       "72415  Archuleta County 2020-12-31  Open with limitations\n",
       "72123   Arapahoe County 2020-12-31  Open with limitations\n",
       "71831    Alamosa County 2020-12-31  Open with limitations\n",
       "71539      Adams County 2020-12-31  Open with limitations\n",
       "\n",
       "[18688 rows x 3 columns]"
      ]
     },
     "execution_count": 25,
     "metadata": {},
     "output_type": "execute_result"
    }
   ],
   "source": [
    "dfRCO"
   ]
  },
  {
   "cell_type": "code",
   "execution_count": 26,
   "metadata": {},
   "outputs": [
    {
     "name": "stderr",
     "output_type": "stream",
     "text": [
      "C:\\Users\\mered\\anaconda3\\envs\\learn-env\\lib\\site-packages\\IPython\\core\\interactiveshell.py:3058: DtypeWarning:\n",
      "\n",
      "Columns (7,8,9,10,12,13,14,15,16,17) have mixed types. Specify dtype option on import or set low_memory=False.\n",
      "\n"
     ]
    }
   ],
   "source": [
    "df2 = pd.read_csv('Data/Mask_Mandates2.csv')"
   ]
  },
  {
   "cell_type": "code",
   "execution_count": 27,
   "metadata": {},
   "outputs": [],
   "source": [
    "## Function to clean Mask Mandates data\n",
    "def cleanerM(df2):\n",
    "    df2.drop(columns = ['Jurisdiction_Type','Issuing_Jurisdiction','Date_Signed','origin_dataset','Source_of_Action','URL','Citation'], inplace = True)\n",
    "    dfM = df2[df2.State_Tribe_Territory  == \"CO\"]\n",
    "    dfM.drop(columns = ['FIPS_State', 'Effective_NA_Reason','Expiration_NA_Reason', 'FIPS_County','State_Tribe_Territory','Effective_date','Expiration_date'], inplace = True)\n",
    "    dfM.date = pd.to_datetime(dfM.date)\n",
    "    dfM = dfM.rename(columns = {'Current_order_status': 'Mask_order'})\n",
    "    dfM.sort_values(by = 'date', inplace = True)\n",
    "    dfM.fillna('NA', inplace = True)\n",
    "    return dfM"
   ]
  },
  {
   "cell_type": "code",
   "execution_count": 28,
   "metadata": {},
   "outputs": [
    {
     "name": "stderr",
     "output_type": "stream",
     "text": [
      "C:\\Users\\mered\\anaconda3\\envs\\learn-env\\lib\\site-packages\\pandas\\core\\generic.py:5208: SettingWithCopyWarning:\n",
      "\n",
      "\n",
      "A value is trying to be set on a copy of a slice from a DataFrame.\n",
      "Try using .loc[row_indexer,col_indexer] = value instead\n",
      "\n",
      "See the caveats in the documentation: http://pandas.pydata.org/pandas-docs/stable/user_guide/indexing.html#returning-a-view-versus-a-copy\n",
      "\n"
     ]
    }
   ],
   "source": [
    "dfMCO = cleanerM(df2)"
   ]
  },
  {
   "cell_type": "code",
   "execution_count": 29,
   "metadata": {},
   "outputs": [
    {
     "data": {
      "text/html": [
       "<div>\n",
       "<style scoped>\n",
       "    .dataframe tbody tr th:only-of-type {\n",
       "        vertical-align: middle;\n",
       "    }\n",
       "\n",
       "    .dataframe tbody tr th {\n",
       "        vertical-align: top;\n",
       "    }\n",
       "\n",
       "    .dataframe thead th {\n",
       "        text-align: right;\n",
       "    }\n",
       "</style>\n",
       "<table border=\"1\" class=\"dataframe\">\n",
       "  <thead>\n",
       "    <tr style=\"text-align: right;\">\n",
       "      <th></th>\n",
       "      <th>County_Name</th>\n",
       "      <th>date</th>\n",
       "      <th>Mask_order</th>\n",
       "      <th>Face_Masks_Required_in_Public</th>\n",
       "    </tr>\n",
       "  </thead>\n",
       "  <tbody>\n",
       "    <tr>\n",
       "      <td>72468</td>\n",
       "      <td>Adams County</td>\n",
       "      <td>2020-04-10</td>\n",
       "      <td>No Public Mask Mandate</td>\n",
       "      <td>NA</td>\n",
       "    </tr>\n",
       "    <tr>\n",
       "      <td>79596</td>\n",
       "      <td>Gilpin County</td>\n",
       "      <td>2020-04-10</td>\n",
       "      <td>No Public Mask Mandate</td>\n",
       "      <td>NA</td>\n",
       "    </tr>\n",
       "    <tr>\n",
       "      <td>79893</td>\n",
       "      <td>Grand County</td>\n",
       "      <td>2020-04-10</td>\n",
       "      <td>No Public Mask Mandate</td>\n",
       "      <td>NA</td>\n",
       "    </tr>\n",
       "    <tr>\n",
       "      <td>89397</td>\n",
       "      <td>San Miguel County</td>\n",
       "      <td>2020-04-10</td>\n",
       "      <td>No Public Mask Mandate</td>\n",
       "      <td>NA</td>\n",
       "    </tr>\n",
       "    <tr>\n",
       "      <td>80487</td>\n",
       "      <td>Hinsdale County</td>\n",
       "      <td>2020-04-10</td>\n",
       "      <td>No Public Mask Mandate</td>\n",
       "      <td>NA</td>\n",
       "    </tr>\n",
       "    <tr>\n",
       "      <td>...</td>\n",
       "      <td>...</td>\n",
       "      <td>...</td>\n",
       "      <td>...</td>\n",
       "      <td>...</td>\n",
       "    </tr>\n",
       "    <tr>\n",
       "      <td>83159</td>\n",
       "      <td>Larimer County</td>\n",
       "      <td>2021-01-31</td>\n",
       "      <td>Public Mask Mandate</td>\n",
       "      <td>Yes</td>\n",
       "    </tr>\n",
       "    <tr>\n",
       "      <td>82862</td>\n",
       "      <td>La Plata County</td>\n",
       "      <td>2021-01-31</td>\n",
       "      <td>Public Mask Mandate</td>\n",
       "      <td>Yes</td>\n",
       "    </tr>\n",
       "    <tr>\n",
       "      <td>82565</td>\n",
       "      <td>Lake County</td>\n",
       "      <td>2021-01-31</td>\n",
       "      <td>Public Mask Mandate</td>\n",
       "      <td>Yes</td>\n",
       "    </tr>\n",
       "    <tr>\n",
       "      <td>86426</td>\n",
       "      <td>Ouray County</td>\n",
       "      <td>2021-01-31</td>\n",
       "      <td>Public Mask Mandate</td>\n",
       "      <td>Yes</td>\n",
       "    </tr>\n",
       "    <tr>\n",
       "      <td>91475</td>\n",
       "      <td>Yuma County</td>\n",
       "      <td>2021-01-31</td>\n",
       "      <td>Public Mask Mandate</td>\n",
       "      <td>Yes</td>\n",
       "    </tr>\n",
       "  </tbody>\n",
       "</table>\n",
       "<p>19008 rows × 4 columns</p>\n",
       "</div>"
      ],
      "text/plain": [
       "             County_Name       date              Mask_order  \\\n",
       "72468       Adams County 2020-04-10  No Public Mask Mandate   \n",
       "79596      Gilpin County 2020-04-10  No Public Mask Mandate   \n",
       "79893       Grand County 2020-04-10  No Public Mask Mandate   \n",
       "89397  San Miguel County 2020-04-10  No Public Mask Mandate   \n",
       "80487    Hinsdale County 2020-04-10  No Public Mask Mandate   \n",
       "...                  ...        ...                     ...   \n",
       "83159     Larimer County 2021-01-31     Public Mask Mandate   \n",
       "82862    La Plata County 2021-01-31     Public Mask Mandate   \n",
       "82565        Lake County 2021-01-31     Public Mask Mandate   \n",
       "86426       Ouray County 2021-01-31     Public Mask Mandate   \n",
       "91475        Yuma County 2021-01-31     Public Mask Mandate   \n",
       "\n",
       "      Face_Masks_Required_in_Public  \n",
       "72468                            NA  \n",
       "79596                            NA  \n",
       "79893                            NA  \n",
       "89397                            NA  \n",
       "80487                            NA  \n",
       "...                             ...  \n",
       "83159                           Yes  \n",
       "82862                           Yes  \n",
       "82565                           Yes  \n",
       "86426                           Yes  \n",
       "91475                           Yes  \n",
       "\n",
       "[19008 rows x 4 columns]"
      ]
     },
     "execution_count": 29,
     "metadata": {},
     "output_type": "execute_result"
    }
   ],
   "source": [
    "dfMCO"
   ]
  },
  {
   "cell_type": "code",
   "execution_count": 30,
   "metadata": {},
   "outputs": [
    {
     "name": "stderr",
     "output_type": "stream",
     "text": [
      "C:\\Users\\mered\\anaconda3\\envs\\learn-env\\lib\\site-packages\\IPython\\core\\interactiveshell.py:3058: DtypeWarning:\n",
      "\n",
      "Columns (7,10,13,16,21,23,33,35) have mixed types. Specify dtype option on import or set low_memory=False.\n",
      "\n"
     ]
    }
   ],
   "source": [
    "df3 = pd.read_csv('Data/Gathering_Bans.csv')"
   ]
  },
  {
   "cell_type": "code",
   "execution_count": 31,
   "metadata": {},
   "outputs": [],
   "source": [
    "## Function to clean gathering bans data\n",
    "def cleanerG(df3):\n",
    "    df3.drop(columns = ['origin_dataset','Source_of_Action','URL','Citation','General_GB_order_code','With_SD_order_code','Outdoor_Household_Order_Code'], inplace = True)\n",
    "    dfG = df3[df3.State_Tribe_Territory  == \"CO\"]\n",
    "    dfG.drop(columns = ['FIPS_State','FIPS_County','Effective_NA_Reason','Expiration_NA_Reason','General_Household_order_code','Express_Preemption','Bans_Households_Not_Individuals_Outdoor_Only','Outdoor_Household_Order_Group','Bans_Households_Not_Individuals_Generally','outdoor_order_group','outdoor_order_code','General_Or_Under_6ft_Bans_Outdoor_Gatherings_Over','Issuing_Jurisdiction','Jurisdiction_Type','With_SD_outdoor_order_code','General_Household_Order_Group','State_Tribe_Territory','Date_Signed','Over_6ft_Bans_Outdoor_Gatherings_Over', 'Indoor_Outdoor','Effective_date','Expiration_date','Over_6ft_Bans_Gatherings_Over','General_or_Under_6ft_Bans_Gatherings_Over','With_SD_outdoor_order_group','Current_order_status'], inplace = True)\n",
    "    dfG.date = pd.to_datetime(dfG.date)\n",
    "    dfG.sort_values(by = 'date', inplace = True)\n",
    "    dfG.fillna('NA', inplace = True)\n",
    "    return dfG"
   ]
  },
  {
   "cell_type": "code",
   "execution_count": 32,
   "metadata": {},
   "outputs": [
    {
     "name": "stderr",
     "output_type": "stream",
     "text": [
      "C:\\Users\\mered\\anaconda3\\envs\\learn-env\\lib\\site-packages\\ipykernel_launcher.py:7: SettingWithCopyWarning:\n",
      "\n",
      "\n",
      "A value is trying to be set on a copy of a slice from a DataFrame\n",
      "\n",
      "See the caveats in the documentation: http://pandas.pydata.org/pandas-docs/stable/user_guide/indexing.html#returning-a-view-versus-a-copy\n",
      "\n",
      "C:\\Users\\mered\\anaconda3\\envs\\learn-env\\lib\\site-packages\\pandas\\core\\frame.py:4244: SettingWithCopyWarning:\n",
      "\n",
      "\n",
      "A value is trying to be set on a copy of a slice from a DataFrame\n",
      "\n",
      "See the caveats in the documentation: http://pandas.pydata.org/pandas-docs/stable/user_guide/indexing.html#returning-a-view-versus-a-copy\n",
      "\n"
     ]
    }
   ],
   "source": [
    "dfGCO = cleanerG(df3)"
   ]
  },
  {
   "cell_type": "code",
   "execution_count": 33,
   "metadata": {},
   "outputs": [],
   "source": [
    "##dfGCO.set_index([\"County_Name\"])"
   ]
  },
  {
   "cell_type": "code",
   "execution_count": 34,
   "metadata": {
    "scrolled": true
   },
   "outputs": [
    {
     "name": "stderr",
     "output_type": "stream",
     "text": [
      "C:\\Users\\mered\\anaconda3\\envs\\learn-env\\lib\\site-packages\\ipykernel_launcher.py:29: SettingWithCopyWarning:\n",
      "\n",
      "\n",
      "A value is trying to be set on a copy of a slice from a DataFrame\n",
      "\n",
      "See the caveats in the documentation: http://pandas.pydata.org/pandas-docs/stable/user_guide/indexing.html#returning-a-view-versus-a-copy\n",
      "\n",
      "C:\\Users\\mered\\anaconda3\\envs\\learn-env\\lib\\site-packages\\ipykernel_launcher.py:30: SettingWithCopyWarning:\n",
      "\n",
      "\n",
      "A value is trying to be set on a copy of a slice from a DataFrame.\n",
      "Try using .loc[row_indexer,col_indexer] = value instead\n",
      "\n",
      "See the caveats in the documentation: http://pandas.pydata.org/pandas-docs/stable/user_guide/indexing.html#returning-a-view-versus-a-copy\n",
      "\n",
      "C:\\Users\\mered\\anaconda3\\envs\\learn-env\\lib\\site-packages\\pandas\\core\\generic.py:6287: SettingWithCopyWarning:\n",
      "\n",
      "\n",
      "A value is trying to be set on a copy of a slice from a DataFrame\n",
      "\n",
      "See the caveats in the documentation: http://pandas.pydata.org/pandas-docs/stable/user_guide/indexing.html#returning-a-view-versus-a-copy\n",
      "\n",
      "C:\\Users\\mered\\anaconda3\\envs\\learn-env\\lib\\site-packages\\pandas\\core\\generic.py:6786: SettingWithCopyWarning:\n",
      "\n",
      "\n",
      "A value is trying to be set on a copy of a slice from a DataFrame\n",
      "\n",
      "See the caveats in the documentation: http://pandas.pydata.org/pandas-docs/stable/user_guide/indexing.html#returning-a-view-versus-a-copy\n",
      "\n"
     ]
    },
    {
     "data": {
      "text/html": [
       "<div>\n",
       "<style scoped>\n",
       "    .dataframe tbody tr th:only-of-type {\n",
       "        vertical-align: middle;\n",
       "    }\n",
       "\n",
       "    .dataframe tbody tr th {\n",
       "        vertical-align: top;\n",
       "    }\n",
       "\n",
       "    .dataframe thead th {\n",
       "        text-align: right;\n",
       "    }\n",
       "</style>\n",
       "<table border=\"1\" class=\"dataframe\">\n",
       "  <thead>\n",
       "    <tr style=\"text-align: right;\">\n",
       "      <th></th>\n",
       "      <th>County_Name</th>\n",
       "      <th>date</th>\n",
       "      <th>Rest_order</th>\n",
       "      <th>Mask_order</th>\n",
       "      <th>Face_Masks_Required_in_Public</th>\n",
       "      <th>General_GB_order_group</th>\n",
       "      <th>With_SD_order_group</th>\n",
       "      <th>Cases</th>\n",
       "      <th>population</th>\n",
       "      <th>Cases/Population</th>\n",
       "    </tr>\n",
       "  </thead>\n",
       "  <tbody>\n",
       "    <tr>\n",
       "      <td>20672</td>\n",
       "      <td>Adams County</td>\n",
       "      <td>2020-03-11</td>\n",
       "      <td>0</td>\n",
       "      <td>0</td>\n",
       "      <td>0</td>\n",
       "      <td>1</td>\n",
       "      <td>2</td>\n",
       "      <td>0</td>\n",
       "      <td>517421</td>\n",
       "      <td>0.000000</td>\n",
       "    </tr>\n",
       "    <tr>\n",
       "      <td>20734</td>\n",
       "      <td>Alamosa County</td>\n",
       "      <td>2020-03-11</td>\n",
       "      <td>0</td>\n",
       "      <td>0</td>\n",
       "      <td>0</td>\n",
       "      <td>1</td>\n",
       "      <td>2</td>\n",
       "      <td>0</td>\n",
       "      <td>16233</td>\n",
       "      <td>0.000000</td>\n",
       "    </tr>\n",
       "    <tr>\n",
       "      <td>20702</td>\n",
       "      <td>Arapahoe County</td>\n",
       "      <td>2020-03-11</td>\n",
       "      <td>0</td>\n",
       "      <td>0</td>\n",
       "      <td>0</td>\n",
       "      <td>1</td>\n",
       "      <td>2</td>\n",
       "      <td>3</td>\n",
       "      <td>656590</td>\n",
       "      <td>0.000005</td>\n",
       "    </tr>\n",
       "    <tr>\n",
       "      <td>20700</td>\n",
       "      <td>Archuleta County</td>\n",
       "      <td>2020-03-11</td>\n",
       "      <td>0</td>\n",
       "      <td>0</td>\n",
       "      <td>0</td>\n",
       "      <td>1</td>\n",
       "      <td>2</td>\n",
       "      <td>0</td>\n",
       "      <td>14029</td>\n",
       "      <td>0.000000</td>\n",
       "    </tr>\n",
       "    <tr>\n",
       "      <td>20698</td>\n",
       "      <td>Baca County</td>\n",
       "      <td>2020-03-11</td>\n",
       "      <td>0</td>\n",
       "      <td>0</td>\n",
       "      <td>0</td>\n",
       "      <td>1</td>\n",
       "      <td>2</td>\n",
       "      <td>0</td>\n",
       "      <td>3581</td>\n",
       "      <td>0.000000</td>\n",
       "    </tr>\n",
       "    <tr>\n",
       "      <td>...</td>\n",
       "      <td>...</td>\n",
       "      <td>...</td>\n",
       "      <td>...</td>\n",
       "      <td>...</td>\n",
       "      <td>...</td>\n",
       "      <td>...</td>\n",
       "      <td>...</td>\n",
       "      <td>...</td>\n",
       "      <td>...</td>\n",
       "      <td>...</td>\n",
       "    </tr>\n",
       "    <tr>\n",
       "      <td>20643</td>\n",
       "      <td>Summit County</td>\n",
       "      <td>2021-01-31</td>\n",
       "      <td>0</td>\n",
       "      <td>2</td>\n",
       "      <td>1</td>\n",
       "      <td>0</td>\n",
       "      <td>0</td>\n",
       "      <td>2646</td>\n",
       "      <td>31011</td>\n",
       "      <td>0.085325</td>\n",
       "    </tr>\n",
       "    <tr>\n",
       "      <td>20642</td>\n",
       "      <td>Teller County</td>\n",
       "      <td>2021-01-31</td>\n",
       "      <td>0</td>\n",
       "      <td>2</td>\n",
       "      <td>1</td>\n",
       "      <td>0</td>\n",
       "      <td>0</td>\n",
       "      <td>1181</td>\n",
       "      <td>25388</td>\n",
       "      <td>0.046518</td>\n",
       "    </tr>\n",
       "    <tr>\n",
       "      <td>20609</td>\n",
       "      <td>Washington County</td>\n",
       "      <td>2021-01-31</td>\n",
       "      <td>0</td>\n",
       "      <td>2</td>\n",
       "      <td>1</td>\n",
       "      <td>0</td>\n",
       "      <td>0</td>\n",
       "      <td>363</td>\n",
       "      <td>4908</td>\n",
       "      <td>0.073961</td>\n",
       "    </tr>\n",
       "    <tr>\n",
       "      <td>20639</td>\n",
       "      <td>Weld County</td>\n",
       "      <td>2021-01-31</td>\n",
       "      <td>0</td>\n",
       "      <td>2</td>\n",
       "      <td>1</td>\n",
       "      <td>0</td>\n",
       "      <td>0</td>\n",
       "      <td>23586</td>\n",
       "      <td>324492</td>\n",
       "      <td>0.072686</td>\n",
       "    </tr>\n",
       "    <tr>\n",
       "      <td>20671</td>\n",
       "      <td>Yuma County</td>\n",
       "      <td>2021-01-31</td>\n",
       "      <td>0</td>\n",
       "      <td>2</td>\n",
       "      <td>1</td>\n",
       "      <td>0</td>\n",
       "      <td>0</td>\n",
       "      <td>663</td>\n",
       "      <td>10019</td>\n",
       "      <td>0.066174</td>\n",
       "    </tr>\n",
       "  </tbody>\n",
       "</table>\n",
       "<p>20928 rows × 10 columns</p>\n",
       "</div>"
      ],
      "text/plain": [
       "             County_Name       date  Rest_order  Mask_order  \\\n",
       "20672       Adams County 2020-03-11           0           0   \n",
       "20734     Alamosa County 2020-03-11           0           0   \n",
       "20702    Arapahoe County 2020-03-11           0           0   \n",
       "20700   Archuleta County 2020-03-11           0           0   \n",
       "20698        Baca County 2020-03-11           0           0   \n",
       "...                  ...        ...         ...         ...   \n",
       "20643      Summit County 2021-01-31           0           2   \n",
       "20642      Teller County 2021-01-31           0           2   \n",
       "20609  Washington County 2021-01-31           0           2   \n",
       "20639        Weld County 2021-01-31           0           2   \n",
       "20671        Yuma County 2021-01-31           0           2   \n",
       "\n",
       "       Face_Masks_Required_in_Public  General_GB_order_group  \\\n",
       "20672                              0                       1   \n",
       "20734                              0                       1   \n",
       "20702                              0                       1   \n",
       "20700                              0                       1   \n",
       "20698                              0                       1   \n",
       "...                              ...                     ...   \n",
       "20643                              1                       0   \n",
       "20642                              1                       0   \n",
       "20609                              1                       0   \n",
       "20639                              1                       0   \n",
       "20671                              1                       0   \n",
       "\n",
       "       With_SD_order_group  Cases  population  Cases/Population  \n",
       "20672                    2      0      517421          0.000000  \n",
       "20734                    2      0       16233          0.000000  \n",
       "20702                    2      3      656590          0.000005  \n",
       "20700                    2      0       14029          0.000000  \n",
       "20698                    2      0        3581          0.000000  \n",
       "...                    ...    ...         ...               ...  \n",
       "20643                    0   2646       31011          0.085325  \n",
       "20642                    0   1181       25388          0.046518  \n",
       "20609                    0    363        4908          0.073961  \n",
       "20639                    0  23586      324492          0.072686  \n",
       "20671                    0    663       10019          0.066174  \n",
       "\n",
       "[20928 rows x 10 columns]"
      ]
     },
     "execution_count": 34,
     "metadata": {},
     "output_type": "execute_result"
    }
   ],
   "source": [
    "## Function to merge all dataframes\n",
    "\n",
    "def merge(df1, df2, df3, df4, df7):\n",
    "    df4_copy = df4.copy()\n",
    "    df7_copy = df7.copy()\n",
    "    df = df1.merge(df2, how = 'outer',  on =['date','County_Name'])\n",
    "    df5 = df.merge(df3, how = 'outer', on =['date','County_Name'])\n",
    " \n",
    "    df4_copy.County_Name = [d[1].strip() for d in df4.County_Name.items()]\n",
    "    df5.County_Name = [d[1].strip() for d in df5.County_Name.items()]\n",
    "    df7.County_Name = [d[1].strip() for d in df7.County_Name.items()]\n",
    "    df4_copy.County_Name = df4_copy.County_Name.astype(str)\n",
    "    df5.County_Name = df5.County_Name.astype(str)\n",
    "    df4_copy.sort_values(by='County_Name',inplace=True)\n",
    "    df6 = df5.merge(df4_copy, on=['County_Name','date'], how=\"outer\")\n",
    "    df8 = df6.merge(df7, on=['County_Name'], how=\"left\")\n",
    "    df8.sort_values(by='County_Name', inplace=True)\n",
    "   \n",
    "    start_date = '2020-03-11'\n",
    "    end_date = '2021-01-31'\n",
    "    after_start_date = df8[\"date\"] >= start_date\n",
    "\n",
    "    before_end_date = df8[\"date\"] <= end_date\n",
    "\n",
    "    between_two_dates = after_start_date & before_end_date\n",
    "\n",
    "    final = df8.loc[between_two_dates]\n",
    "    \n",
    "    final.sort_values(by = ['date','County_Name'], inplace = True)\n",
    "    final['Cases/Population'] = final.apply(lambda row: row.Cases/row.population, axis = 1)\n",
    "    final['Cases/Population'].fillna(0, inplace = True)\n",
    "    final.fillna('NA', inplace = True)\n",
    "    R = {'NA':0,'No restriction found':1,'Curbside/delivery only':2,'Open with limitations':3 }\n",
    "    final.Rest_order.replace(R, inplace=True)\n",
    "    M = {'NA':0,'No Public Mask Mandate' :1,'Public Mask Mandate':2}\n",
    "    final.Mask_order.replace(M, inplace=True)\n",
    "    F = {'NA':0,'Yes' :1}\n",
    "    final.Face_Masks_Required_in_Public.replace(F, inplace=True)\n",
    "    S = {'NA':0,'Ban of gatherings over 51-100 people' :1,'No order found':2}\n",
    "    final.With_SD_order_group.replace(S, inplace=True)\n",
    "    G = {'NA':0,'No order found':1,'Ban of gatherings over 11-25 people':2,'Ban of gatherings over 1-10 people':3,'Bans gatherings of any size':4}\n",
    "    final.General_GB_order_group.replace(G, inplace=True)\n",
    "    return final\n",
    "\n",
    "finaldfCO = merge(dfRCO, dfMCO, dfGCO, CO, COpop)\n",
    "finaldfCO\n",
    "\n"
   ]
  },
  {
   "cell_type": "code",
   "execution_count": 35,
   "metadata": {},
   "outputs": [],
   "source": [
    "finaldfCO.to_csv('Data/Colorado_data.csv', index = False)"
   ]
  },
  {
   "cell_type": "markdown",
   "metadata": {},
   "source": [
    "# Begin Modeling Process"
   ]
  },
  {
   "cell_type": "code",
   "execution_count": 36,
   "metadata": {},
   "outputs": [],
   "source": [
    "## Create X and Y Variables\n",
    "\n",
    "y = finaldfCO['Cases/Population']\n",
    "X = finaldfCO.drop(columns = ['Cases/Population', 'County_Name','date','population','Cases'], axis = 1)"
   ]
  },
  {
   "cell_type": "code",
   "execution_count": 37,
   "metadata": {},
   "outputs": [],
   "source": [
    "x_train, x_test, y_train, y_test = train_test_split(X, y, test_size=0.50, random_state=42)"
   ]
  },
  {
   "cell_type": "code",
   "execution_count": 38,
   "metadata": {},
   "outputs": [],
   "source": [
    "## Fit baseline model\n",
    "reg_1 = DecisionTreeRegressor()"
   ]
  },
  {
   "cell_type": "code",
   "execution_count": 39,
   "metadata": {},
   "outputs": [],
   "source": [
    "## Model Evaluator Function\n",
    "def evaluator(X_train, y_train, X_test, y_test, model):   \n",
    "    start = time.time()\n",
    "    model.fit(X_train, y_train)\n",
    "    train_preds = model.predict(X_train)\n",
    "    test_preds = model.predict(X_test)\n",
    "    end = time.time()\n",
    "    print(\"Model Time: {}\".format(end-start))\n",
    "    print('R Squared Score is:', r2_score(y_test, test_preds))\n",
    "    print('Training:')\n",
    "    print('Mean Absolute Error:', mean_absolute_error(y_train, train_preds))  \n",
    "    print('Mean Squared Error:', mean_squared_error(y_train, train_preds))  \n",
    "    print('Root Mean Squared Error:', np.sqrt(mean_squared_error(y_train, train_preds)))\n",
    "    print('Testing:')\n",
    "    print('Mean Absolute Error:', mean_absolute_error(y_test, test_preds))  \n",
    "    print('Mean Squared Error:', mean_squared_error(y_test, test_preds))  \n",
    "    print('Root Mean Squared Error:', np.sqrt(mean_squared_error(y_test, test_preds)))"
   ]
  },
  {
   "cell_type": "code",
   "execution_count": 40,
   "metadata": {},
   "outputs": [
    {
     "name": "stdout",
     "output_type": "stream",
     "text": [
      "Model Time: 0.016991138458251953\n",
      "R Squared Score is: 0.5456325841101032\n",
      "Training:\n",
      "Mean Absolute Error: 0.008097852439114936\n",
      "Mean Squared Error: 0.00033731578353755556\n",
      "Root Mean Squared Error: 0.018366158649471467\n",
      "Testing:\n",
      "Mean Absolute Error: 0.00808854163146654\n",
      "Mean Squared Error: 0.000349081702092759\n",
      "Root Mean Squared Error: 0.018683728270684066\n"
     ]
    }
   ],
   "source": [
    "evaluator(x_train, y_train, x_test, y_test, reg_1)"
   ]
  },
  {
   "cell_type": "code",
   "execution_count": 41,
   "metadata": {},
   "outputs": [],
   "source": [
    "## gridsearch for best decision tree model\n",
    "parameters={\"splitter\":[\"best\",\"random\"],\n",
    "            \"max_depth\" : [1,7,9,12],\n",
    "           \"min_samples_leaf\":[1,5,10],\n",
    "           \n",
    "           \"max_features\":[\"auto\",\"log2\",\"sqrt\",None],\n",
    "           \"max_leaf_nodes\":[None,10,50,90] }"
   ]
  },
  {
   "cell_type": "code",
   "execution_count": 42,
   "metadata": {},
   "outputs": [],
   "source": [
    "DT_grid=GridSearchCV(estimator=reg_1,param_grid=parameters, scoring = 'r2', n_jobs=1)"
   ]
  },
  {
   "cell_type": "code",
   "execution_count": 43,
   "metadata": {},
   "outputs": [
    {
     "name": "stdout",
     "output_type": "stream",
     "text": [
      "Model Time: 13.442306280136108\n",
      "R Squared Score is: 0.5456325842623004\n",
      "Training:\n",
      "Mean Absolute Error: 0.008097852068171433\n",
      "Mean Squared Error: 0.00033731578353942944\n",
      "Root Mean Squared Error: 0.01836615864952248\n",
      "Testing:\n",
      "Mean Absolute Error: 0.008088541521557354\n",
      "Mean Squared Error: 0.0003490817019758288\n",
      "Root Mean Squared Error: 0.018683728267554867\n"
     ]
    }
   ],
   "source": [
    "evaluator(x_train, y_train, x_test, y_test, DT_grid)"
   ]
  },
  {
   "cell_type": "code",
   "execution_count": 44,
   "metadata": {},
   "outputs": [
    {
     "data": {
      "text/plain": [
       "{'max_depth': 7,\n",
       " 'max_features': 'auto',\n",
       " 'max_leaf_nodes': None,\n",
       " 'min_samples_leaf': 1,\n",
       " 'splitter': 'best'}"
      ]
     },
     "execution_count": 44,
     "metadata": {},
     "output_type": "execute_result"
    }
   ],
   "source": [
    "DT_grid.best_params_"
   ]
  },
  {
   "cell_type": "code",
   "execution_count": 45,
   "metadata": {},
   "outputs": [
    {
     "data": {
      "text/plain": [
       "0.5596832599155215"
      ]
     },
     "execution_count": 45,
     "metadata": {},
     "output_type": "execute_result"
    }
   ],
   "source": [
    "DT_grid.best_score_"
   ]
  },
  {
   "cell_type": "code",
   "execution_count": 47,
   "metadata": {},
   "outputs": [
    {
     "data": {
      "image/png": "[encoded data removed]",
      "text/plain": [
       "<Figure size 432x288 with 1 Axes>"
      ]
     },
     "metadata": {
      "needs_background": "light"
     },
     "output_type": "display_data"
    }
   ],
   "source": [
    "## To understand the error in context, the distribution of Cases/Population\n",
    "ax = sns.histplot(x = finaldfCO['Cases/Population'])"
   ]
  },
  {
   "cell_type": "code",
   "execution_count": 48,
   "metadata": {},
   "outputs": [
    {
     "data": {
      "text/plain": [
       "0.01687998087298965"
      ]
     },
     "execution_count": 48,
     "metadata": {},
     "output_type": "execute_result"
    }
   ],
   "source": [
    "## We can also see that the mean value is very low, giving context to the error numbers\n",
    "finaldfCO['Cases/Population'].mean()"
   ]
  },
  {
   "cell_type": "code",
   "execution_count": 49,
   "metadata": {},
   "outputs": [
    {
     "data": {
      "text/plain": [
       "0.02766291069996377"
      ]
     },
     "execution_count": 49,
     "metadata": {},
     "output_type": "execute_result"
    }
   ],
   "source": [
    "## Std is higher than the error rates, model is predicting within one standard deviation\n",
    "finaldfCO['Cases/Population'].std()"
   ]
  },
  {
   "cell_type": "code",
   "execution_count": 50,
   "metadata": {},
   "outputs": [],
   "source": [
    "## Trying Enslemble regressor model with gridsearch\n",
    "GBR=GradientBoostingRegressor()\n",
    "\n",
    "\n",
    "search_grid={'n_estimators':[5000,10000],'learning_rate':[.25,.4,.5],'max_depth':[4,7,10],'subsample':[.1,.25,.5],'random_state':[2,3]}\n",
    "\n",
    "GBR_grid=GridSearchCV(estimator=GBR,param_grid=search_grid, scoring = 'r2')"
   ]
  },
  {
   "cell_type": "code",
   "execution_count": 51,
   "metadata": {},
   "outputs": [],
   "source": [
    "#evaluator(x_train, y_train, x_test, y_test, GBR_grid)"
   ]
  },
  {
   "cell_type": "code",
   "execution_count": 52,
   "metadata": {},
   "outputs": [],
   "source": [
    "#GBR_grid.best_params_"
   ]
  },
  {
   "cell_type": "code",
   "execution_count": 53,
   "metadata": {},
   "outputs": [],
   "source": [
    "#GBR_grid.best_score_"
   ]
  },
  {
   "cell_type": "code",
   "execution_count": 54,
   "metadata": {},
   "outputs": [],
   "source": [
    "GBR=GradientBoostingRegressor()\n",
    "\n",
    "\n",
    "search_grid={'n_estimators':[100,200,500],'learning_rate':[.25,.4,.5],'max_depth':[4,7,10],'subsample':[.1,.25,.5],'random_state':[2,3]}\n",
    "\n",
    "GBR_grid=GridSearchCV(estimator=GBR,param_grid=search_grid, scoring = 'neg_mean_squared_error')\n",
    "\n",
    "#evaluator(x_train, y_train, x_test, y_test, GBR_grid)"
   ]
  },
  {
   "cell_type": "code",
   "execution_count": 55,
   "metadata": {},
   "outputs": [],
   "source": [
    "#GBR_grid.best_score_"
   ]
  },
  {
   "cell_type": "code",
   "execution_count": 56,
   "metadata": {},
   "outputs": [],
   "source": [
    "#GBR_grid.best_params_"
   ]
  },
  {
   "cell_type": "code",
   "execution_count": 57,
   "metadata": {},
   "outputs": [
    {
     "name": "stdout",
     "output_type": "stream",
     "text": [
      "Model Time: 0.24216604232788086\n",
      "R Squared Score is: 0.5458234137118863\n",
      "Training:\n",
      "Mean Absolute Error: 0.008038312980031954\n",
      "Mean Squared Error: 0.0003375124930932349\n",
      "Root Mean Squared Error: 0.018371513086657694\n",
      "Testing:\n",
      "Mean Absolute Error: 0.008024926274175495\n",
      "Mean Squared Error: 0.0003489350913987028\n",
      "Root Mean Squared Error: 0.01867980437260259\n"
     ]
    }
   ],
   "source": [
    "## Final Best Model\n",
    "GBR_best = GradientBoostingRegressor(learning_rate = 0.5,\n",
    " max_depth = 4,\n",
    " n_estimators = 100,\n",
    " random_state= 2,\n",
    " subsample= 0.25)\n",
    "\n",
    "evaluator(x_train, y_train, x_test, y_test, GBR_best)"
   ]
  },
  {
   "cell_type": "code",
   "execution_count": 70,
   "metadata": {},
   "outputs": [],
   "source": [
    "## Function to view feature importance\n",
    "def plot_feature_importances(model):\n",
    "    n_features = x_train.shape[1]\n",
    "    plt.barh(range(n_features), model.feature_importances_) \n",
    "    plt.yticks(np.arange(n_features), x_train.columns.values) \n",
    "    plt.xlabel('Feature importance')\n",
    "    plt.ylabel('Feature')\n",
    "    plt.title('Model Feature Importance')"
   ]
  },
  {
   "cell_type": "code",
   "execution_count": 71,
   "metadata": {},
   "outputs": [
    {
     "data": {
      "image/png": "[encoded data removed]",
      "text/plain": [
       "<Figure size 432x288 with 1 Axes>"
      ]
     },
     "metadata": {
      "needs_background": "light"
     },
     "output_type": "display_data"
    }
   ],
   "source": [
    "## The model used the order group -- with social distancing gathering mandates \n",
    "## Restaurant mandates were the least important for the model\n",
    "plot_feature_importances(GBR_best)"
   ]
  },
  {
   "cell_type": "code",
   "execution_count": 61,
   "metadata": {
    "scrolled": false
   },
   "outputs": [
    {
     "name": "stderr",
     "output_type": "stream",
     "text": [
      "C:\\Users\\mered\\anaconda3\\envs\\learn-env\\lib\\site-packages\\pandas\\plotting\\_matplotlib\\converter.py:103: FutureWarning:\n",
      "\n",
      "Using an implicitly registered datetime converter for a matplotlib plotting method. The converter was registered by pandas on import. Future versions of pandas will require you to explicitly register matplotlib converters.\n",
      "\n",
      "To register the converters:\n",
      "\t>>> from pandas.plotting import register_matplotlib_converters\n",
      "\t>>> register_matplotlib_converters()\n",
      "\n"
     ]
    },
    {
     "data": {
      "image/png": "[encoded data removed]",
      "text/plain": [
       "<Figure size 765.5x360 with 1 Axes>"
      ]
     },
     "metadata": {
      "needs_background": "light"
     },
     "output_type": "display_data"
    },
    {
     "data": {
      "image/png": "[encoded data removed]",
      "text/plain": [
       "<Figure size 759.375x360 with 1 Axes>"
      ]
     },
     "metadata": {
      "needs_background": "light"
     },
     "output_type": "display_data"
    },
    {
     "data": {
      "image/png": "[encoded data removed]",
      "text/plain": [
       "<Figure size 706.875x360 with 1 Axes>"
      ]
     },
     "metadata": {
      "needs_background": "light"
     },
     "output_type": "display_data"
    },
    {
     "data": {
      "image/png": "[encoded data removed]",
      "text/plain": [
       "<Figure size 698.125x360 with 1 Axes>"
      ]
     },
     "metadata": {
      "needs_background": "light"
     },
     "output_type": "display_data"
    },
    {
     "data": {
      "image/png": "[encoded data removed]",
      "text/plain": [
       "<Figure size 688.125x360 with 1 Axes>"
      ]
     },
     "metadata": {
      "needs_background": "light"
     },
     "output_type": "display_data"
    }
   ],
   "source": [
    "S = {0:'NA',1:'Ban of gatherings over 51-100 people',2:'No order found'}\n",
    "finaldfCO.With_SD_order_group.replace(S, inplace=True)\n",
    "G = {0:'NA',1:'No order found',2:'Ban of gatherings over 11-25 people',3:'Ban of gatherings over 1-10 people',4:'Bans gatherings of any size'}\n",
    "finaldfCO.General_GB_order_group.replace(G, inplace=True)\n",
    "M = {0:'NA',1:'No Public Mask Mandate',2:'Public Mask Mandate'}\n",
    "finaldfCO.Mask_order.replace(M, inplace=True)\n",
    "F = {0:'NA',1:'Yes'}\n",
    "finaldfCO.Face_Masks_Required_in_Public.replace(F, inplace=True)\n",
    "R = {0:'NA',1:'No restriction found',2:'Curbside/delivery only',3:'Open with limitations',4:'Authorized to fully reopen'}\n",
    "finaldfCO.Rest_order.replace(R, inplace=True)\n",
    "hues = [\"With_SD_order_group\",\"General_GB_order_group\",\"Face_Masks_Required_in_Public\",\"Mask_order\",\"Rest_order\"]\n",
    "\n",
    "\n",
    "for hue in hues:\n",
    "    sns.displot(data = finaldfCO, x = \"date\", y = \"Cases/Population\", hue = hue, palette = \"bright\", aspect = 1.5)\n",
    "    plt.title(f\"{hue}\")"
   ]
  },
  {
   "cell_type": "code",
   "execution_count": 66,
   "metadata": {},
   "outputs": [],
   "source": [
    "Gatherings = finaldfCO.groupby('With_SD_order_group').mean()"
   ]
  },
  {
   "cell_type": "code",
   "execution_count": 67,
   "metadata": {},
   "outputs": [
    {
     "data": {
      "text/html": [
       "<div>\n",
       "<style scoped>\n",
       "    .dataframe tbody tr th:only-of-type {\n",
       "        vertical-align: middle;\n",
       "    }\n",
       "\n",
       "    .dataframe tbody tr th {\n",
       "        vertical-align: top;\n",
       "    }\n",
       "\n",
       "    .dataframe thead th {\n",
       "        text-align: right;\n",
       "    }\n",
       "</style>\n",
       "<table border=\"1\" class=\"dataframe\">\n",
       "  <thead>\n",
       "    <tr style=\"text-align: right;\">\n",
       "      <th></th>\n",
       "      <th>Cases</th>\n",
       "      <th>population</th>\n",
       "      <th>Cases/Population</th>\n",
       "    </tr>\n",
       "    <tr>\n",
       "      <th>With_SD_order_group</th>\n",
       "      <th></th>\n",
       "      <th></th>\n",
       "      <th></th>\n",
       "    </tr>\n",
       "  </thead>\n",
       "  <tbody>\n",
       "    <tr>\n",
       "      <td>Ban of gatherings over 51-100 people</td>\n",
       "      <td>736.656951</td>\n",
       "      <td>90312.585427</td>\n",
       "      <td>0.006632</td>\n",
       "    </tr>\n",
       "    <tr>\n",
       "      <td>NA</td>\n",
       "      <td>5786.217238</td>\n",
       "      <td>89980.250000</td>\n",
       "      <td>0.065800</td>\n",
       "    </tr>\n",
       "    <tr>\n",
       "      <td>No order found</td>\n",
       "      <td>1457.398335</td>\n",
       "      <td>89827.325497</td>\n",
       "      <td>0.014115</td>\n",
       "    </tr>\n",
       "  </tbody>\n",
       "</table>\n",
       "</div>"
      ],
      "text/plain": [
       "                                            Cases    population  \\\n",
       "With_SD_order_group                                               \n",
       "Ban of gatherings over 51-100 people   736.656951  90312.585427   \n",
       "NA                                    5786.217238  89980.250000   \n",
       "No order found                        1457.398335  89827.325497   \n",
       "\n",
       "                                      Cases/Population  \n",
       "With_SD_order_group                                     \n",
       "Ban of gatherings over 51-100 people          0.006632  \n",
       "NA                                            0.065800  \n",
       "No order found                                0.014115  "
      ]
     },
     "execution_count": 67,
     "metadata": {},
     "output_type": "execute_result"
    }
   ],
   "source": [
    "Gatherings"
   ]
  },
  {
   "cell_type": "code",
   "execution_count": 68,
   "metadata": {},
   "outputs": [
    {
     "data": {
      "text/html": [
       "<div>\n",
       "<style scoped>\n",
       "    .dataframe tbody tr th:only-of-type {\n",
       "        vertical-align: middle;\n",
       "    }\n",
       "\n",
       "    .dataframe tbody tr th {\n",
       "        vertical-align: top;\n",
       "    }\n",
       "\n",
       "    .dataframe thead th {\n",
       "        text-align: right;\n",
       "    }\n",
       "</style>\n",
       "<table border=\"1\" class=\"dataframe\">\n",
       "  <thead>\n",
       "    <tr style=\"text-align: right;\">\n",
       "      <th></th>\n",
       "      <th>Cases</th>\n",
       "      <th>population</th>\n",
       "      <th>Cases/Population</th>\n",
       "    </tr>\n",
       "    <tr>\n",
       "      <th>General_GB_order_group</th>\n",
       "      <th></th>\n",
       "      <th></th>\n",
       "      <th></th>\n",
       "    </tr>\n",
       "  </thead>\n",
       "  <tbody>\n",
       "    <tr>\n",
       "      <td>Ban of gatherings over 1-10 people</td>\n",
       "      <td>875.797655</td>\n",
       "      <td>84746.494821</td>\n",
       "      <td>0.010453</td>\n",
       "    </tr>\n",
       "    <tr>\n",
       "      <td>Ban of gatherings over 11-25 people</td>\n",
       "      <td>911.717868</td>\n",
       "      <td>86468.405434</td>\n",
       "      <td>0.007300</td>\n",
       "    </tr>\n",
       "    <tr>\n",
       "      <td>Bans gatherings of any size</td>\n",
       "      <td>3144.683837</td>\n",
       "      <td>119547.031462</td>\n",
       "      <td>0.020911</td>\n",
       "    </tr>\n",
       "    <tr>\n",
       "      <td>NA</td>\n",
       "      <td>5786.217238</td>\n",
       "      <td>89980.250000</td>\n",
       "      <td>0.065800</td>\n",
       "    </tr>\n",
       "    <tr>\n",
       "      <td>No order found</td>\n",
       "      <td>74.982206</td>\n",
       "      <td>66569.804270</td>\n",
       "      <td>0.003101</td>\n",
       "    </tr>\n",
       "  </tbody>\n",
       "</table>\n",
       "</div>"
      ],
      "text/plain": [
       "                                           Cases     population  \\\n",
       "General_GB_order_group                                            \n",
       "Ban of gatherings over 1-10 people    875.797655   84746.494821   \n",
       "Ban of gatherings over 11-25 people   911.717868   86468.405434   \n",
       "Bans gatherings of any size          3144.683837  119547.031462   \n",
       "NA                                   5786.217238   89980.250000   \n",
       "No order found                         74.982206   66569.804270   \n",
       "\n",
       "                                     Cases/Population  \n",
       "General_GB_order_group                                 \n",
       "Ban of gatherings over 1-10 people           0.010453  \n",
       "Ban of gatherings over 11-25 people          0.007300  \n",
       "Bans gatherings of any size                  0.020911  \n",
       "NA                                           0.065800  \n",
       "No order found                               0.003101  "
      ]
     },
     "execution_count": 68,
     "metadata": {},
     "output_type": "execute_result"
    }
   ],
   "source": [
    "Gatherings2 = finaldfCO.groupby('General_GB_order_group').mean()\n",
    "Gatherings2"
   ]
  },
  {
   "cell_type": "code",
   "execution_count": 69,
   "metadata": {},
   "outputs": [
    {
     "data": {
      "text/html": [
       "<div>\n",
       "<style scoped>\n",
       "    .dataframe tbody tr th:only-of-type {\n",
       "        vertical-align: middle;\n",
       "    }\n",
       "\n",
       "    .dataframe tbody tr th {\n",
       "        vertical-align: top;\n",
       "    }\n",
       "\n",
       "    .dataframe thead th {\n",
       "        text-align: right;\n",
       "    }\n",
       "</style>\n",
       "<table border=\"1\" class=\"dataframe\">\n",
       "  <thead>\n",
       "    <tr style=\"text-align: right;\">\n",
       "      <th></th>\n",
       "      <th>Cases</th>\n",
       "      <th>population</th>\n",
       "      <th>Cases/Population</th>\n",
       "    </tr>\n",
       "    <tr>\n",
       "      <th>Rest_order</th>\n",
       "      <th></th>\n",
       "      <th></th>\n",
       "      <th></th>\n",
       "    </tr>\n",
       "  </thead>\n",
       "  <tbody>\n",
       "    <tr>\n",
       "      <td>Curbside/delivery only</td>\n",
       "      <td>177.022007</td>\n",
       "      <td>89980.25</td>\n",
       "      <td>0.001484</td>\n",
       "    </tr>\n",
       "    <tr>\n",
       "      <td>NA</td>\n",
       "      <td>5125.044196</td>\n",
       "      <td>89980.25</td>\n",
       "      <td>0.058282</td>\n",
       "    </tr>\n",
       "    <tr>\n",
       "      <td>No restriction found</td>\n",
       "      <td>1.984375</td>\n",
       "      <td>89980.25</td>\n",
       "      <td>0.000029</td>\n",
       "    </tr>\n",
       "    <tr>\n",
       "      <td>Open with limitations</td>\n",
       "      <td>1605.396832</td>\n",
       "      <td>89980.25</td>\n",
       "      <td>0.015408</td>\n",
       "    </tr>\n",
       "  </tbody>\n",
       "</table>\n",
       "</div>"
      ],
      "text/plain": [
       "                              Cases  population  Cases/Population\n",
       "Rest_order                                                       \n",
       "Curbside/delivery only   177.022007    89980.25          0.001484\n",
       "NA                      5125.044196    89980.25          0.058282\n",
       "No restriction found       1.984375    89980.25          0.000029\n",
       "Open with limitations   1605.396832    89980.25          0.015408"
      ]
     },
     "execution_count": 69,
     "metadata": {},
     "output_type": "execute_result"
    }
   ],
   "source": [
    "Rest = finaldfCO.groupby('Rest_order').mean()\n",
    "Rest"
   ]
  },
  {
   "cell_type": "code",
   "execution_count": null,
   "metadata": {},
   "outputs": [],
   "source": []
  }
 ],
 "metadata": {
  "celltoolbar": "Raw Cell Format",
  "kernelspec": {
   "display_name": "Python [conda env:learn-env] *",
   "language": "python",
   "name": "conda-env-learn-env-py"
  },
  "language_info": {
   "codemirror_mode": {
    "name": "ipython",
    "version": 3
   },
   "file_extension": ".py",
   "mimetype": "text/x-python",
   "name": "python",
   "nbconvert_exporter": "python",
   "pygments_lexer": "ipython3",
   "version": "3.6.9"
  },
  "toc": {
   "base_numbering": 1,
   "nav_menu": {},
   "number_sections": true,
   "sideBar": true,
   "skip_h1_title": false,
   "title_cell": "Table of Contents",
   "title_sidebar": "Contents",
   "toc_cell": false,
   "toc_position": {},
   "toc_section_display": true,
   "toc_window_display": false
  }
 },
 "nbformat": 4,
 "nbformat_minor": 2
}
