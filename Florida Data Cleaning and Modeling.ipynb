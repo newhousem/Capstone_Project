{
 "cells": [
  {
   "cell_type": "markdown",
   "metadata": {},
   "source": [
    "# Data Cleaning and Modeling for Florida"
   ]
  },
  {
   "cell_type": "markdown",
   "metadata": {},
   "source": [
    "## import necessary libraries"
   ]
  },
  {
   "cell_type": "code",
   "execution_count": 84,
   "metadata": {},
   "outputs": [],
   "source": [
    "import pandas as pd\n",
    "from sklearn.tree import DecisionTreeRegressor\n",
    "from sklearn.model_selection import train_test_split, cross_val_score, GridSearchCV\n",
    "from sklearn.metrics import precision_score, recall_score, accuracy_score, f1_score, plot_confusion_matrix, classification_report, r2_score\n",
    "from sklearn.metrics import mean_absolute_error, mean_squared_error, make_scorer\n",
    "import time\n",
    "import numpy as np\n",
    "import matplotlib.pyplot as plt\n",
    "%matplotlib inline\n",
    "import plotly.express as px\n",
    "import seaborn as sns\n",
    "from sklearn.ensemble import GradientBoostingRegressor\n",
    "from sklearn.model_selection import KFold"
   ]
  },
  {
   "cell_type": "markdown",
   "metadata": {},
   "source": [
    "## Import data for Florida and clean"
   ]
  },
  {
   "cell_type": "code",
   "execution_count": 85,
   "metadata": {},
   "outputs": [],
   "source": [
    "df = pd.read_csv('Data/covid_cases_per_county.csv')"
   ]
  },
  {
   "cell_type": "code",
   "execution_count": 4,
   "metadata": {},
   "outputs": [],
   "source": [
    "FL = df[df.State == 'FL']"
   ]
  },
  {
   "cell_type": "code",
   "execution_count": 5,
   "metadata": {},
   "outputs": [
    {
     "data": {
      "text/html": [
       "<div>\n",
       "<style scoped>\n",
       "    .dataframe tbody tr th:only-of-type {\n",
       "        vertical-align: middle;\n",
       "    }\n",
       "\n",
       "    .dataframe tbody tr th {\n",
       "        vertical-align: top;\n",
       "    }\n",
       "\n",
       "    .dataframe thead th {\n",
       "        text-align: right;\n",
       "    }\n",
       "</style>\n",
       "<table border=\"1\" class=\"dataframe\">\n",
       "  <thead>\n",
       "    <tr style=\"text-align: right;\">\n",
       "      <th></th>\n",
       "      <th>countyFIPS</th>\n",
       "      <th>County Name</th>\n",
       "      <th>State</th>\n",
       "      <th>StateFIPS</th>\n",
       "      <th>2020-01-22</th>\n",
       "      <th>2020-01-23</th>\n",
       "      <th>2020-01-24</th>\n",
       "      <th>2020-01-25</th>\n",
       "      <th>2020-01-26</th>\n",
       "      <th>2020-01-27</th>\n",
       "      <th>...</th>\n",
       "      <th>2021-03-21</th>\n",
       "      <th>2021-03-22</th>\n",
       "      <th>2021-03-23</th>\n",
       "      <th>2021-03-24</th>\n",
       "      <th>2021-03-25</th>\n",
       "      <th>2021-03-26</th>\n",
       "      <th>2021-03-27</th>\n",
       "      <th>2021-03-28</th>\n",
       "      <th>2021-03-29</th>\n",
       "      <th>2021-03-30</th>\n",
       "    </tr>\n",
       "  </thead>\n",
       "  <tbody>\n",
       "    <tr>\n",
       "      <td>329</td>\n",
       "      <td>0</td>\n",
       "      <td>Statewide Unallocated</td>\n",
       "      <td>FL</td>\n",
       "      <td>12</td>\n",
       "      <td>0</td>\n",
       "      <td>0</td>\n",
       "      <td>0</td>\n",
       "      <td>0</td>\n",
       "      <td>0</td>\n",
       "      <td>0</td>\n",
       "      <td>...</td>\n",
       "      <td>3509</td>\n",
       "      <td>3512</td>\n",
       "      <td>3518</td>\n",
       "      <td>3523</td>\n",
       "      <td>3525</td>\n",
       "      <td>3533</td>\n",
       "      <td>3540</td>\n",
       "      <td>3545</td>\n",
       "      <td>3547</td>\n",
       "      <td>3552</td>\n",
       "    </tr>\n",
       "    <tr>\n",
       "      <td>330</td>\n",
       "      <td>12001</td>\n",
       "      <td>Alachua County</td>\n",
       "      <td>FL</td>\n",
       "      <td>12</td>\n",
       "      <td>0</td>\n",
       "      <td>0</td>\n",
       "      <td>0</td>\n",
       "      <td>0</td>\n",
       "      <td>0</td>\n",
       "      <td>0</td>\n",
       "      <td>...</td>\n",
       "      <td>23015</td>\n",
       "      <td>23039</td>\n",
       "      <td>23068</td>\n",
       "      <td>23098</td>\n",
       "      <td>23139</td>\n",
       "      <td>23192</td>\n",
       "      <td>23239</td>\n",
       "      <td>23273</td>\n",
       "      <td>23283</td>\n",
       "      <td>23339</td>\n",
       "    </tr>\n",
       "    <tr>\n",
       "      <td>331</td>\n",
       "      <td>12003</td>\n",
       "      <td>Baker County</td>\n",
       "      <td>FL</td>\n",
       "      <td>12</td>\n",
       "      <td>0</td>\n",
       "      <td>0</td>\n",
       "      <td>0</td>\n",
       "      <td>0</td>\n",
       "      <td>0</td>\n",
       "      <td>0</td>\n",
       "      <td>...</td>\n",
       "      <td>3335</td>\n",
       "      <td>3338</td>\n",
       "      <td>3340</td>\n",
       "      <td>3344</td>\n",
       "      <td>3347</td>\n",
       "      <td>3348</td>\n",
       "      <td>3350</td>\n",
       "      <td>3352</td>\n",
       "      <td>3352</td>\n",
       "      <td>3355</td>\n",
       "    </tr>\n",
       "    <tr>\n",
       "      <td>332</td>\n",
       "      <td>12005</td>\n",
       "      <td>Bay County</td>\n",
       "      <td>FL</td>\n",
       "      <td>12</td>\n",
       "      <td>0</td>\n",
       "      <td>0</td>\n",
       "      <td>0</td>\n",
       "      <td>0</td>\n",
       "      <td>0</td>\n",
       "      <td>0</td>\n",
       "      <td>...</td>\n",
       "      <td>19411</td>\n",
       "      <td>19411</td>\n",
       "      <td>19435</td>\n",
       "      <td>19458</td>\n",
       "      <td>19458</td>\n",
       "      <td>19458</td>\n",
       "      <td>19470</td>\n",
       "      <td>19473</td>\n",
       "      <td>19476</td>\n",
       "      <td>19476</td>\n",
       "    </tr>\n",
       "    <tr>\n",
       "      <td>333</td>\n",
       "      <td>12007</td>\n",
       "      <td>Bradford County</td>\n",
       "      <td>FL</td>\n",
       "      <td>12</td>\n",
       "      <td>0</td>\n",
       "      <td>0</td>\n",
       "      <td>0</td>\n",
       "      <td>0</td>\n",
       "      <td>0</td>\n",
       "      <td>0</td>\n",
       "      <td>...</td>\n",
       "      <td>2902</td>\n",
       "      <td>2907</td>\n",
       "      <td>2907</td>\n",
       "      <td>2910</td>\n",
       "      <td>2911</td>\n",
       "      <td>2912</td>\n",
       "      <td>2914</td>\n",
       "      <td>2916</td>\n",
       "      <td>2917</td>\n",
       "      <td>2919</td>\n",
       "    </tr>\n",
       "    <tr>\n",
       "      <td>...</td>\n",
       "      <td>...</td>\n",
       "      <td>...</td>\n",
       "      <td>...</td>\n",
       "      <td>...</td>\n",
       "      <td>...</td>\n",
       "      <td>...</td>\n",
       "      <td>...</td>\n",
       "      <td>...</td>\n",
       "      <td>...</td>\n",
       "      <td>...</td>\n",
       "      <td>...</td>\n",
       "      <td>...</td>\n",
       "      <td>...</td>\n",
       "      <td>...</td>\n",
       "      <td>...</td>\n",
       "      <td>...</td>\n",
       "      <td>...</td>\n",
       "      <td>...</td>\n",
       "      <td>...</td>\n",
       "      <td>...</td>\n",
       "      <td>...</td>\n",
       "    </tr>\n",
       "    <tr>\n",
       "      <td>392</td>\n",
       "      <td>12125</td>\n",
       "      <td>Union County</td>\n",
       "      <td>FL</td>\n",
       "      <td>12</td>\n",
       "      <td>0</td>\n",
       "      <td>0</td>\n",
       "      <td>0</td>\n",
       "      <td>0</td>\n",
       "      <td>0</td>\n",
       "      <td>0</td>\n",
       "      <td>...</td>\n",
       "      <td>1765</td>\n",
       "      <td>1766</td>\n",
       "      <td>1770</td>\n",
       "      <td>1770</td>\n",
       "      <td>1770</td>\n",
       "      <td>1770</td>\n",
       "      <td>1771</td>\n",
       "      <td>1772</td>\n",
       "      <td>1772</td>\n",
       "      <td>1773</td>\n",
       "    </tr>\n",
       "    <tr>\n",
       "      <td>393</td>\n",
       "      <td>12127</td>\n",
       "      <td>Volusia County</td>\n",
       "      <td>FL</td>\n",
       "      <td>12</td>\n",
       "      <td>0</td>\n",
       "      <td>0</td>\n",
       "      <td>0</td>\n",
       "      <td>0</td>\n",
       "      <td>0</td>\n",
       "      <td>0</td>\n",
       "      <td>...</td>\n",
       "      <td>36709</td>\n",
       "      <td>36785</td>\n",
       "      <td>36887</td>\n",
       "      <td>37103</td>\n",
       "      <td>37272</td>\n",
       "      <td>37453</td>\n",
       "      <td>37623</td>\n",
       "      <td>37763</td>\n",
       "      <td>37895</td>\n",
       "      <td>38069</td>\n",
       "    </tr>\n",
       "    <tr>\n",
       "      <td>394</td>\n",
       "      <td>12129</td>\n",
       "      <td>Wakulla County</td>\n",
       "      <td>FL</td>\n",
       "      <td>12</td>\n",
       "      <td>0</td>\n",
       "      <td>0</td>\n",
       "      <td>0</td>\n",
       "      <td>0</td>\n",
       "      <td>0</td>\n",
       "      <td>0</td>\n",
       "      <td>...</td>\n",
       "      <td>3223</td>\n",
       "      <td>3223</td>\n",
       "      <td>3228</td>\n",
       "      <td>3232</td>\n",
       "      <td>3238</td>\n",
       "      <td>3240</td>\n",
       "      <td>3241</td>\n",
       "      <td>3241</td>\n",
       "      <td>3242</td>\n",
       "      <td>3245</td>\n",
       "    </tr>\n",
       "    <tr>\n",
       "      <td>395</td>\n",
       "      <td>12131</td>\n",
       "      <td>Walton County</td>\n",
       "      <td>FL</td>\n",
       "      <td>12</td>\n",
       "      <td>0</td>\n",
       "      <td>0</td>\n",
       "      <td>0</td>\n",
       "      <td>0</td>\n",
       "      <td>0</td>\n",
       "      <td>0</td>\n",
       "      <td>...</td>\n",
       "      <td>7249</td>\n",
       "      <td>7258</td>\n",
       "      <td>7262</td>\n",
       "      <td>7272</td>\n",
       "      <td>7284</td>\n",
       "      <td>7290</td>\n",
       "      <td>7293</td>\n",
       "      <td>7299</td>\n",
       "      <td>7300</td>\n",
       "      <td>7303</td>\n",
       "    </tr>\n",
       "    <tr>\n",
       "      <td>396</td>\n",
       "      <td>12133</td>\n",
       "      <td>Washington County</td>\n",
       "      <td>FL</td>\n",
       "      <td>12</td>\n",
       "      <td>0</td>\n",
       "      <td>0</td>\n",
       "      <td>0</td>\n",
       "      <td>0</td>\n",
       "      <td>0</td>\n",
       "      <td>0</td>\n",
       "      <td>...</td>\n",
       "      <td>2650</td>\n",
       "      <td>2651</td>\n",
       "      <td>2657</td>\n",
       "      <td>2658</td>\n",
       "      <td>2658</td>\n",
       "      <td>2660</td>\n",
       "      <td>2666</td>\n",
       "      <td>2669</td>\n",
       "      <td>2670</td>\n",
       "      <td>2670</td>\n",
       "    </tr>\n",
       "  </tbody>\n",
       "</table>\n",
       "<p>68 rows × 438 columns</p>\n",
       "</div>"
      ],
      "text/plain": [
       "     countyFIPS            County Name State  StateFIPS  2020-01-22  \\\n",
       "329           0  Statewide Unallocated    FL         12           0   \n",
       "330       12001        Alachua County     FL         12           0   \n",
       "331       12003          Baker County     FL         12           0   \n",
       "332       12005            Bay County     FL         12           0   \n",
       "333       12007       Bradford County     FL         12           0   \n",
       "..          ...                    ...   ...        ...         ...   \n",
       "392       12125          Union County     FL         12           0   \n",
       "393       12127        Volusia County     FL         12           0   \n",
       "394       12129        Wakulla County     FL         12           0   \n",
       "395       12131         Walton County     FL         12           0   \n",
       "396       12133     Washington County     FL         12           0   \n",
       "\n",
       "     2020-01-23  2020-01-24  2020-01-25  2020-01-26  2020-01-27  ...  \\\n",
       "329           0           0           0           0           0  ...   \n",
       "330           0           0           0           0           0  ...   \n",
       "331           0           0           0           0           0  ...   \n",
       "332           0           0           0           0           0  ...   \n",
       "333           0           0           0           0           0  ...   \n",
       "..          ...         ...         ...         ...         ...  ...   \n",
       "392           0           0           0           0           0  ...   \n",
       "393           0           0           0           0           0  ...   \n",
       "394           0           0           0           0           0  ...   \n",
       "395           0           0           0           0           0  ...   \n",
       "396           0           0           0           0           0  ...   \n",
       "\n",
       "     2021-03-21  2021-03-22  2021-03-23  2021-03-24  2021-03-25  2021-03-26  \\\n",
       "329        3509        3512        3518        3523        3525        3533   \n",
       "330       23015       23039       23068       23098       23139       23192   \n",
       "331        3335        3338        3340        3344        3347        3348   \n",
       "332       19411       19411       19435       19458       19458       19458   \n",
       "333        2902        2907        2907        2910        2911        2912   \n",
       "..          ...         ...         ...         ...         ...         ...   \n",
       "392        1765        1766        1770        1770        1770        1770   \n",
       "393       36709       36785       36887       37103       37272       37453   \n",
       "394        3223        3223        3228        3232        3238        3240   \n",
       "395        7249        7258        7262        7272        7284        7290   \n",
       "396        2650        2651        2657        2658        2658        2660   \n",
       "\n",
       "     2021-03-27  2021-03-28  2021-03-29  2021-03-30  \n",
       "329        3540        3545        3547        3552  \n",
       "330       23239       23273       23283       23339  \n",
       "331        3350        3352        3352        3355  \n",
       "332       19470       19473       19476       19476  \n",
       "333        2914        2916        2917        2919  \n",
       "..          ...         ...         ...         ...  \n",
       "392        1771        1772        1772        1773  \n",
       "393       37623       37763       37895       38069  \n",
       "394        3241        3241        3242        3245  \n",
       "395        7293        7299        7300        7303  \n",
       "396        2666        2669        2670        2670  \n",
       "\n",
       "[68 rows x 438 columns]"
      ]
     },
     "execution_count": 5,
     "metadata": {},
     "output_type": "execute_result"
    }
   ],
   "source": [
    "FL"
   ]
  },
  {
   "cell_type": "code",
   "execution_count": 7,
   "metadata": {},
   "outputs": [],
   "source": [
    "FL = FL.drop([329])"
   ]
  },
  {
   "cell_type": "code",
   "execution_count": 8,
   "metadata": {},
   "outputs": [],
   "source": [
    "def CasesClean(df):\n",
    "    df = df.drop(columns = ['countyFIPS','State','StateFIPS'])\n",
    "    df = df.melt(id_vars=[\"County Name\"], \n",
    "        var_name=\"date\", \n",
    "        value_name=\"Cases\")\n",
    "    df = df.rename(columns = {'County Name':'County_Name'})\n",
    "    df.date = pd.to_datetime(df.date)\n",
    "    return df"
   ]
  },
  {
   "cell_type": "code",
   "execution_count": 10,
   "metadata": {},
   "outputs": [
    {
     "data": {
      "text/html": [
       "<div>\n",
       "<style scoped>\n",
       "    .dataframe tbody tr th:only-of-type {\n",
       "        vertical-align: middle;\n",
       "    }\n",
       "\n",
       "    .dataframe tbody tr th {\n",
       "        vertical-align: top;\n",
       "    }\n",
       "\n",
       "    .dataframe thead th {\n",
       "        text-align: right;\n",
       "    }\n",
       "</style>\n",
       "<table border=\"1\" class=\"dataframe\">\n",
       "  <thead>\n",
       "    <tr style=\"text-align: right;\">\n",
       "      <th></th>\n",
       "      <th>County_Name</th>\n",
       "      <th>date</th>\n",
       "      <th>Cases</th>\n",
       "    </tr>\n",
       "  </thead>\n",
       "  <tbody>\n",
       "    <tr>\n",
       "      <td>0</td>\n",
       "      <td>Alachua County</td>\n",
       "      <td>2020-01-22</td>\n",
       "      <td>0</td>\n",
       "    </tr>\n",
       "    <tr>\n",
       "      <td>1</td>\n",
       "      <td>Baker County</td>\n",
       "      <td>2020-01-22</td>\n",
       "      <td>0</td>\n",
       "    </tr>\n",
       "    <tr>\n",
       "      <td>2</td>\n",
       "      <td>Bay County</td>\n",
       "      <td>2020-01-22</td>\n",
       "      <td>0</td>\n",
       "    </tr>\n",
       "    <tr>\n",
       "      <td>3</td>\n",
       "      <td>Bradford County</td>\n",
       "      <td>2020-01-22</td>\n",
       "      <td>0</td>\n",
       "    </tr>\n",
       "    <tr>\n",
       "      <td>4</td>\n",
       "      <td>Brevard County</td>\n",
       "      <td>2020-01-22</td>\n",
       "      <td>0</td>\n",
       "    </tr>\n",
       "    <tr>\n",
       "      <td>...</td>\n",
       "      <td>...</td>\n",
       "      <td>...</td>\n",
       "      <td>...</td>\n",
       "    </tr>\n",
       "    <tr>\n",
       "      <td>29073</td>\n",
       "      <td>Union County</td>\n",
       "      <td>2021-03-30</td>\n",
       "      <td>1773</td>\n",
       "    </tr>\n",
       "    <tr>\n",
       "      <td>29074</td>\n",
       "      <td>Volusia County</td>\n",
       "      <td>2021-03-30</td>\n",
       "      <td>38069</td>\n",
       "    </tr>\n",
       "    <tr>\n",
       "      <td>29075</td>\n",
       "      <td>Wakulla County</td>\n",
       "      <td>2021-03-30</td>\n",
       "      <td>3245</td>\n",
       "    </tr>\n",
       "    <tr>\n",
       "      <td>29076</td>\n",
       "      <td>Walton County</td>\n",
       "      <td>2021-03-30</td>\n",
       "      <td>7303</td>\n",
       "    </tr>\n",
       "    <tr>\n",
       "      <td>29077</td>\n",
       "      <td>Washington County</td>\n",
       "      <td>2021-03-30</td>\n",
       "      <td>2670</td>\n",
       "    </tr>\n",
       "  </tbody>\n",
       "</table>\n",
       "<p>29078 rows × 3 columns</p>\n",
       "</div>"
      ],
      "text/plain": [
       "              County_Name       date  Cases\n",
       "0         Alachua County  2020-01-22      0\n",
       "1           Baker County  2020-01-22      0\n",
       "2             Bay County  2020-01-22      0\n",
       "3        Bradford County  2020-01-22      0\n",
       "4         Brevard County  2020-01-22      0\n",
       "...                   ...        ...    ...\n",
       "29073       Union County  2021-03-30   1773\n",
       "29074     Volusia County  2021-03-30  38069\n",
       "29075     Wakulla County  2021-03-30   3245\n",
       "29076      Walton County  2021-03-30   7303\n",
       "29077  Washington County  2021-03-30   2670\n",
       "\n",
       "[29078 rows x 3 columns]"
      ]
     },
     "execution_count": 10,
     "metadata": {},
     "output_type": "execute_result"
    }
   ],
   "source": [
    "FL = CasesClean(FL)"
   ]
  },
  {
   "cell_type": "code",
   "execution_count": 11,
   "metadata": {},
   "outputs": [],
   "source": [
    "df2 = pd.read_csv('Data/covid_county_population.csv')"
   ]
  },
  {
   "cell_type": "code",
   "execution_count": 12,
   "metadata": {},
   "outputs": [],
   "source": [
    "FLpop = df2[df2.State == 'FL']\n"
   ]
  },
  {
   "cell_type": "code",
   "execution_count": 14,
   "metadata": {},
   "outputs": [],
   "source": [
    "FLpop = FLpop.drop([330])"
   ]
  },
  {
   "cell_type": "code",
   "execution_count": 15,
   "metadata": {},
   "outputs": [],
   "source": [
    "FLpop = FLpop.drop(columns = ['State', 'countyFIPS'])\n",
    "FLpop = FLpop.rename(columns = {'County Name':'County_Name'})"
   ]
  },
  {
   "cell_type": "code",
   "execution_count": 20,
   "metadata": {},
   "outputs": [],
   "source": [
    "df = pd.read_csv('Data/Restaurant_orders.csv')"
   ]
  },
  {
   "cell_type": "code",
   "execution_count": 21,
   "metadata": {},
   "outputs": [],
   "source": [
    "## Cleaner function for restaurant data\n",
    "def cleanerR(df):\n",
    "    df['Effective_date'] = pd.to_datetime(df['Effective_date'])\n",
    "    df.drop(columns = ['Effective_NA_Reason', 'Expiration_NA_Reason','Date_Signed','origin_dataset','Source_of_Action','URL','Citation','FIPS_State','FIPS_County','Action','Jurisdiction_Type','Issuing_Jurisdiction','order_code','Business_Type','Current_order_status','Effective_date','Expiration_date'], inplace = True)\n",
    "    df.date = pd.to_datetime(df.date)\n",
    "    df.sort_values(by = 'date', inplace = True)\n",
    "    dfR = df[df.State_Tribe_Territory  == \"FL\"]\n",
    "    dfR.drop(columns = ['State_Tribe_Territory'], inplace = True)\n",
    "    dfR = dfR.rename(columns = {'order_group':'Rest_order'})\n",
    "    return dfR"
   ]
  },
  {
   "cell_type": "code",
   "execution_count": 22,
   "metadata": {},
   "outputs": [],
   "source": [
    "dfRFL = cleanerR(df)"
   ]
  },
  {
   "cell_type": "code",
   "execution_count": 39,
   "metadata": {},
   "outputs": [
    {
     "data": {
      "text/plain": [
       "Open with limitations         9849\n",
       "Authorized to fully reopen    6566\n",
       "Curbside/delivery only        3015\n",
       "No restriction found           134\n",
       "Name: Rest_order, dtype: int64"
      ]
     },
     "execution_count": 39,
     "metadata": {},
     "output_type": "execute_result"
    }
   ],
   "source": [
    "## Florida has extra value = 'Authorized to fully reopen'\n",
    "dfRFL.Rest_order.value_counts()"
   ]
  },
  {
   "cell_type": "code",
   "execution_count": 23,
   "metadata": {},
   "outputs": [
    {
     "name": "stderr",
     "output_type": "stream",
     "text": [
      "C:\\Users\\mered\\anaconda3\\envs\\learn-env\\lib\\site-packages\\IPython\\core\\interactiveshell.py:3058: DtypeWarning:\n",
      "\n",
      "Columns (7,8,9,10,12,13,14,15,16,17) have mixed types. Specify dtype option on import or set low_memory=False.\n",
      "\n"
     ]
    }
   ],
   "source": [
    "df2 = pd.read_csv('Data/Mask_Mandates2.csv')"
   ]
  },
  {
   "cell_type": "code",
   "execution_count": 24,
   "metadata": {},
   "outputs": [],
   "source": [
    "## Function to clean Mask Mandates data\n",
    "def cleanerM(df2):\n",
    "    df2.drop(columns = ['Jurisdiction_Type','Issuing_Jurisdiction','Date_Signed','origin_dataset','Source_of_Action','URL','Citation'], inplace = True)\n",
    "    dfM = df2[df2.State_Tribe_Territory  == \"FL\"]\n",
    "    dfM.drop(columns = ['FIPS_State', 'Effective_NA_Reason','Expiration_NA_Reason', 'FIPS_County','State_Tribe_Territory','Effective_date','Expiration_date'], inplace = True)\n",
    "    dfM.date = pd.to_datetime(dfM.date)\n",
    "    dfM = dfM.rename(columns = {'Current_order_status': 'Mask_order'})\n",
    "    dfM.sort_values(by = 'date', inplace = True)\n",
    "    dfM.fillna('NA', inplace = True)\n",
    "    return dfM"
   ]
  },
  {
   "cell_type": "code",
   "execution_count": 25,
   "metadata": {},
   "outputs": [
    {
     "name": "stderr",
     "output_type": "stream",
     "text": [
      "C:\\Users\\mered\\anaconda3\\envs\\learn-env\\lib\\site-packages\\pandas\\core\\generic.py:5208: SettingWithCopyWarning:\n",
      "\n",
      "\n",
      "A value is trying to be set on a copy of a slice from a DataFrame.\n",
      "Try using .loc[row_indexer,col_indexer] = value instead\n",
      "\n",
      "See the caveats in the documentation: http://pandas.pydata.org/pandas-docs/stable/user_guide/indexing.html#returning-a-view-versus-a-copy\n",
      "\n"
     ]
    }
   ],
   "source": [
    "dfMFL = cleanerM(df2)"
   ]
  },
  {
   "cell_type": "code",
   "execution_count": 26,
   "metadata": {},
   "outputs": [
    {
     "data": {
      "text/html": [
       "<div>\n",
       "<style scoped>\n",
       "    .dataframe tbody tr th:only-of-type {\n",
       "        vertical-align: middle;\n",
       "    }\n",
       "\n",
       "    .dataframe tbody tr th {\n",
       "        vertical-align: top;\n",
       "    }\n",
       "\n",
       "    .dataframe thead th {\n",
       "        text-align: right;\n",
       "    }\n",
       "</style>\n",
       "<table border=\"1\" class=\"dataframe\">\n",
       "  <thead>\n",
       "    <tr style=\"text-align: right;\">\n",
       "      <th></th>\n",
       "      <th>County_Name</th>\n",
       "      <th>date</th>\n",
       "      <th>Mask_order</th>\n",
       "      <th>Face_Masks_Required_in_Public</th>\n",
       "    </tr>\n",
       "  </thead>\n",
       "  <tbody>\n",
       "    <tr>\n",
       "      <td>95040</td>\n",
       "      <td>Alachua County</td>\n",
       "      <td>2020-04-10</td>\n",
       "      <td>No Public Mask Mandate</td>\n",
       "      <td>NA</td>\n",
       "    </tr>\n",
       "    <tr>\n",
       "      <td>107811</td>\n",
       "      <td>Monroe County</td>\n",
       "      <td>2020-04-10</td>\n",
       "      <td>No Public Mask Mandate</td>\n",
       "      <td>NA</td>\n",
       "    </tr>\n",
       "    <tr>\n",
       "      <td>101574</td>\n",
       "      <td>Hamilton County</td>\n",
       "      <td>2020-04-10</td>\n",
       "      <td>No Public Mask Mandate</td>\n",
       "      <td>NA</td>\n",
       "    </tr>\n",
       "    <tr>\n",
       "      <td>108405</td>\n",
       "      <td>Okaloosa County</td>\n",
       "      <td>2020-04-10</td>\n",
       "      <td>No Public Mask Mandate</td>\n",
       "      <td>NA</td>\n",
       "    </tr>\n",
       "    <tr>\n",
       "      <td>103950</td>\n",
       "      <td>Jackson County</td>\n",
       "      <td>2020-04-10</td>\n",
       "      <td>No Public Mask Mandate</td>\n",
       "      <td>NA</td>\n",
       "    </tr>\n",
       "    <tr>\n",
       "      <td>...</td>\n",
       "      <td>...</td>\n",
       "      <td>...</td>\n",
       "      <td>...</td>\n",
       "      <td>...</td>\n",
       "    </tr>\n",
       "    <tr>\n",
       "      <td>105137</td>\n",
       "      <td>Lake County</td>\n",
       "      <td>2021-01-31</td>\n",
       "      <td>No Public Mask Mandate</td>\n",
       "      <td>NA</td>\n",
       "    </tr>\n",
       "    <tr>\n",
       "      <td>106028</td>\n",
       "      <td>Levy County</td>\n",
       "      <td>2021-01-31</td>\n",
       "      <td>No Public Mask Mandate</td>\n",
       "      <td>NA</td>\n",
       "    </tr>\n",
       "    <tr>\n",
       "      <td>101870</td>\n",
       "      <td>Hamilton County</td>\n",
       "      <td>2021-01-31</td>\n",
       "      <td>No Public Mask Mandate</td>\n",
       "      <td>NA</td>\n",
       "    </tr>\n",
       "    <tr>\n",
       "      <td>102464</td>\n",
       "      <td>Hendry County</td>\n",
       "      <td>2021-01-31</td>\n",
       "      <td>No Public Mask Mandate</td>\n",
       "      <td>NA</td>\n",
       "    </tr>\n",
       "    <tr>\n",
       "      <td>114938</td>\n",
       "      <td>Washington County</td>\n",
       "      <td>2021-01-31</td>\n",
       "      <td>No Public Mask Mandate</td>\n",
       "      <td>NA</td>\n",
       "    </tr>\n",
       "  </tbody>\n",
       "</table>\n",
       "<p>19899 rows × 4 columns</p>\n",
       "</div>"
      ],
      "text/plain": [
       "              County_Name       date              Mask_order  \\\n",
       "95040      Alachua County 2020-04-10  No Public Mask Mandate   \n",
       "107811      Monroe County 2020-04-10  No Public Mask Mandate   \n",
       "101574    Hamilton County 2020-04-10  No Public Mask Mandate   \n",
       "108405    Okaloosa County 2020-04-10  No Public Mask Mandate   \n",
       "103950     Jackson County 2020-04-10  No Public Mask Mandate   \n",
       "...                   ...        ...                     ...   \n",
       "105137        Lake County 2021-01-31  No Public Mask Mandate   \n",
       "106028        Levy County 2021-01-31  No Public Mask Mandate   \n",
       "101870    Hamilton County 2021-01-31  No Public Mask Mandate   \n",
       "102464      Hendry County 2021-01-31  No Public Mask Mandate   \n",
       "114938  Washington County 2021-01-31  No Public Mask Mandate   \n",
       "\n",
       "       Face_Masks_Required_in_Public  \n",
       "95040                             NA  \n",
       "107811                            NA  \n",
       "101574                            NA  \n",
       "108405                            NA  \n",
       "103950                            NA  \n",
       "...                              ...  \n",
       "105137                            NA  \n",
       "106028                            NA  \n",
       "101870                            NA  \n",
       "102464                            NA  \n",
       "114938                            NA  \n",
       "\n",
       "[19899 rows x 4 columns]"
      ]
     },
     "execution_count": 26,
     "metadata": {},
     "output_type": "execute_result"
    }
   ],
   "source": [
    "dfMFL"
   ]
  },
  {
   "cell_type": "code",
   "execution_count": 31,
   "metadata": {},
   "outputs": [],
   "source": [
    "df3 = pd.read_csv('Data/Gathering_Bans.csv')"
   ]
  },
  {
   "cell_type": "code",
   "execution_count": 32,
   "metadata": {},
   "outputs": [],
   "source": [
    "## Function to clean gathering bans data\n",
    "def cleanerG(df3):\n",
    "    df3.drop(columns = ['origin_dataset','Source_of_Action','URL','Citation','General_GB_order_code','With_SD_order_code','Outdoor_Household_Order_Code'], inplace = True)\n",
    "    dfG = df3[df3.State_Tribe_Territory  == \"FL\"]\n",
    "    dfG.drop(columns = ['FIPS_State','FIPS_County','Effective_NA_Reason','Expiration_NA_Reason','General_Household_order_code','Express_Preemption','Bans_Households_Not_Individuals_Outdoor_Only','Outdoor_Household_Order_Group','Bans_Households_Not_Individuals_Generally','outdoor_order_group','outdoor_order_code','General_Or_Under_6ft_Bans_Outdoor_Gatherings_Over','Issuing_Jurisdiction','Jurisdiction_Type','With_SD_outdoor_order_code','General_Household_Order_Group','State_Tribe_Territory','Date_Signed','Over_6ft_Bans_Outdoor_Gatherings_Over', 'Indoor_Outdoor','Effective_date','Expiration_date','Over_6ft_Bans_Gatherings_Over','General_or_Under_6ft_Bans_Gatherings_Over','With_SD_outdoor_order_group','Current_order_status'], inplace = True)\n",
    "    dfG.date = pd.to_datetime(dfG.date)\n",
    "    dfG.sort_values(by = 'date', inplace = True)\n",
    "    dfG.fillna('NA', inplace = True)\n",
    "    return dfG"
   ]
  },
  {
   "cell_type": "code",
   "execution_count": 33,
   "metadata": {},
   "outputs": [
    {
     "name": "stderr",
     "output_type": "stream",
     "text": [
      "C:\\Users\\mered\\anaconda3\\envs\\learn-env\\lib\\site-packages\\ipykernel_launcher.py:7: SettingWithCopyWarning:\n",
      "\n",
      "\n",
      "A value is trying to be set on a copy of a slice from a DataFrame\n",
      "\n",
      "See the caveats in the documentation: http://pandas.pydata.org/pandas-docs/stable/user_guide/indexing.html#returning-a-view-versus-a-copy\n",
      "\n"
     ]
    }
   ],
   "source": [
    "dfGFL = cleanerG(df3)"
   ]
  },
  {
   "cell_type": "code",
   "execution_count": 47,
   "metadata": {},
   "outputs": [
    {
     "name": "stderr",
     "output_type": "stream",
     "text": [
      "C:\\Users\\mered\\anaconda3\\envs\\learn-env\\lib\\site-packages\\ipykernel_launcher.py:29: SettingWithCopyWarning:\n",
      "\n",
      "\n",
      "A value is trying to be set on a copy of a slice from a DataFrame\n",
      "\n",
      "See the caveats in the documentation: http://pandas.pydata.org/pandas-docs/stable/user_guide/indexing.html#returning-a-view-versus-a-copy\n",
      "\n",
      "C:\\Users\\mered\\anaconda3\\envs\\learn-env\\lib\\site-packages\\ipykernel_launcher.py:30: SettingWithCopyWarning:\n",
      "\n",
      "\n",
      "A value is trying to be set on a copy of a slice from a DataFrame.\n",
      "Try using .loc[row_indexer,col_indexer] = value instead\n",
      "\n",
      "See the caveats in the documentation: http://pandas.pydata.org/pandas-docs/stable/user_guide/indexing.html#returning-a-view-versus-a-copy\n",
      "\n",
      "C:\\Users\\mered\\anaconda3\\envs\\learn-env\\lib\\site-packages\\pandas\\core\\generic.py:6287: SettingWithCopyWarning:\n",
      "\n",
      "\n",
      "A value is trying to be set on a copy of a slice from a DataFrame\n",
      "\n",
      "See the caveats in the documentation: http://pandas.pydata.org/pandas-docs/stable/user_guide/indexing.html#returning-a-view-versus-a-copy\n",
      "\n",
      "C:\\Users\\mered\\anaconda3\\envs\\learn-env\\lib\\site-packages\\pandas\\core\\frame.py:4244: SettingWithCopyWarning:\n",
      "\n",
      "\n",
      "A value is trying to be set on a copy of a slice from a DataFrame\n",
      "\n",
      "See the caveats in the documentation: http://pandas.pydata.org/pandas-docs/stable/user_guide/indexing.html#returning-a-view-versus-a-copy\n",
      "\n",
      "C:\\Users\\mered\\anaconda3\\envs\\learn-env\\lib\\site-packages\\pandas\\core\\generic.py:6786: SettingWithCopyWarning:\n",
      "\n",
      "\n",
      "A value is trying to be set on a copy of a slice from a DataFrame\n",
      "\n",
      "See the caveats in the documentation: http://pandas.pydata.org/pandas-docs/stable/user_guide/indexing.html#returning-a-view-versus-a-copy\n",
      "\n"
     ]
    },
    {
     "data": {
      "text/html": [
       "<div>\n",
       "<style scoped>\n",
       "    .dataframe tbody tr th:only-of-type {\n",
       "        vertical-align: middle;\n",
       "    }\n",
       "\n",
       "    .dataframe tbody tr th {\n",
       "        vertical-align: top;\n",
       "    }\n",
       "\n",
       "    .dataframe thead th {\n",
       "        text-align: right;\n",
       "    }\n",
       "</style>\n",
       "<table border=\"1\" class=\"dataframe\">\n",
       "  <thead>\n",
       "    <tr style=\"text-align: right;\">\n",
       "      <th></th>\n",
       "      <th>County_Name</th>\n",
       "      <th>date</th>\n",
       "      <th>Rest_order</th>\n",
       "      <th>Mask_order</th>\n",
       "      <th>Face_Masks_Required_in_Public</th>\n",
       "      <th>General_GB_order_group</th>\n",
       "      <th>With_SD_order_group</th>\n",
       "      <th>Cases</th>\n",
       "      <th>population</th>\n",
       "      <th>Cases/Population</th>\n",
       "    </tr>\n",
       "  </thead>\n",
       "  <tbody>\n",
       "    <tr>\n",
       "      <td>21641</td>\n",
       "      <td>Alachua County</td>\n",
       "      <td>2020-03-11</td>\n",
       "      <td>0</td>\n",
       "      <td>0</td>\n",
       "      <td>0</td>\n",
       "      <td>1</td>\n",
       "      <td>2</td>\n",
       "      <td>1</td>\n",
       "      <td>269043</td>\n",
       "      <td>0.000004</td>\n",
       "    </tr>\n",
       "    <tr>\n",
       "      <td>21705</td>\n",
       "      <td>Baker County</td>\n",
       "      <td>2020-03-11</td>\n",
       "      <td>0</td>\n",
       "      <td>0</td>\n",
       "      <td>0</td>\n",
       "      <td>1</td>\n",
       "      <td>2</td>\n",
       "      <td>0</td>\n",
       "      <td>29210</td>\n",
       "      <td>0.000000</td>\n",
       "    </tr>\n",
       "    <tr>\n",
       "      <td>21649</td>\n",
       "      <td>Bay County</td>\n",
       "      <td>2020-03-11</td>\n",
       "      <td>0</td>\n",
       "      <td>0</td>\n",
       "      <td>0</td>\n",
       "      <td>1</td>\n",
       "      <td>2</td>\n",
       "      <td>0</td>\n",
       "      <td>174705</td>\n",
       "      <td>0.000000</td>\n",
       "    </tr>\n",
       "    <tr>\n",
       "      <td>21685</td>\n",
       "      <td>Bradford County</td>\n",
       "      <td>2020-03-11</td>\n",
       "      <td>0</td>\n",
       "      <td>0</td>\n",
       "      <td>0</td>\n",
       "      <td>1</td>\n",
       "      <td>2</td>\n",
       "      <td>0</td>\n",
       "      <td>28201</td>\n",
       "      <td>0.000000</td>\n",
       "    </tr>\n",
       "    <tr>\n",
       "      <td>21665</td>\n",
       "      <td>Brevard County</td>\n",
       "      <td>2020-03-11</td>\n",
       "      <td>0</td>\n",
       "      <td>0</td>\n",
       "      <td>0</td>\n",
       "      <td>1</td>\n",
       "      <td>2</td>\n",
       "      <td>0</td>\n",
       "      <td>601942</td>\n",
       "      <td>0.000000</td>\n",
       "    </tr>\n",
       "    <tr>\n",
       "      <td>...</td>\n",
       "      <td>...</td>\n",
       "      <td>...</td>\n",
       "      <td>...</td>\n",
       "      <td>...</td>\n",
       "      <td>...</td>\n",
       "      <td>...</td>\n",
       "      <td>...</td>\n",
       "      <td>...</td>\n",
       "      <td>...</td>\n",
       "      <td>...</td>\n",
       "    </tr>\n",
       "    <tr>\n",
       "      <td>21627</td>\n",
       "      <td>Union County</td>\n",
       "      <td>2021-01-31</td>\n",
       "      <td>0</td>\n",
       "      <td>1</td>\n",
       "      <td>0</td>\n",
       "      <td>0</td>\n",
       "      <td>0</td>\n",
       "      <td>1664</td>\n",
       "      <td>15237</td>\n",
       "      <td>0.109208</td>\n",
       "    </tr>\n",
       "    <tr>\n",
       "      <td>21616</td>\n",
       "      <td>Volusia County</td>\n",
       "      <td>2021-01-31</td>\n",
       "      <td>0</td>\n",
       "      <td>1</td>\n",
       "      <td>0</td>\n",
       "      <td>0</td>\n",
       "      <td>0</td>\n",
       "      <td>30961</td>\n",
       "      <td>553284</td>\n",
       "      <td>0.055959</td>\n",
       "    </tr>\n",
       "    <tr>\n",
       "      <td>21583</td>\n",
       "      <td>Wakulla County</td>\n",
       "      <td>2021-01-31</td>\n",
       "      <td>0</td>\n",
       "      <td>1</td>\n",
       "      <td>0</td>\n",
       "      <td>0</td>\n",
       "      <td>0</td>\n",
       "      <td>2960</td>\n",
       "      <td>33739</td>\n",
       "      <td>0.087732</td>\n",
       "    </tr>\n",
       "    <tr>\n",
       "      <td>21594</td>\n",
       "      <td>Walton County</td>\n",
       "      <td>2021-01-31</td>\n",
       "      <td>0</td>\n",
       "      <td>1</td>\n",
       "      <td>0</td>\n",
       "      <td>0</td>\n",
       "      <td>0</td>\n",
       "      <td>6294</td>\n",
       "      <td>74071</td>\n",
       "      <td>0.084973</td>\n",
       "    </tr>\n",
       "    <tr>\n",
       "      <td>21640</td>\n",
       "      <td>Washington County</td>\n",
       "      <td>2021-01-31</td>\n",
       "      <td>0</td>\n",
       "      <td>1</td>\n",
       "      <td>0</td>\n",
       "      <td>0</td>\n",
       "      <td>0</td>\n",
       "      <td>2462</td>\n",
       "      <td>25473</td>\n",
       "      <td>0.096651</td>\n",
       "    </tr>\n",
       "  </tbody>\n",
       "</table>\n",
       "<p>21909 rows × 10 columns</p>\n",
       "</div>"
      ],
      "text/plain": [
       "             County_Name       date  Rest_order Mask_order  \\\n",
       "21641     Alachua County 2020-03-11           0          0   \n",
       "21705       Baker County 2020-03-11           0          0   \n",
       "21649         Bay County 2020-03-11           0          0   \n",
       "21685    Bradford County 2020-03-11           0          0   \n",
       "21665     Brevard County 2020-03-11           0          0   \n",
       "...                  ...        ...         ...        ...   \n",
       "21627       Union County 2021-01-31           0          1   \n",
       "21616     Volusia County 2021-01-31           0          1   \n",
       "21583     Wakulla County 2021-01-31           0          1   \n",
       "21594      Walton County 2021-01-31           0          1   \n",
       "21640  Washington County 2021-01-31           0          1   \n",
       "\n",
       "      Face_Masks_Required_in_Public General_GB_order_group  \\\n",
       "21641                             0                      1   \n",
       "21705                             0                      1   \n",
       "21649                             0                      1   \n",
       "21685                             0                      1   \n",
       "21665                             0                      1   \n",
       "...                             ...                    ...   \n",
       "21627                             0                      0   \n",
       "21616                             0                      0   \n",
       "21583                             0                      0   \n",
       "21594                             0                      0   \n",
       "21640                             0                      0   \n",
       "\n",
       "       With_SD_order_group  Cases  population  Cases/Population  \n",
       "21641                    2      1      269043          0.000004  \n",
       "21705                    2      0       29210          0.000000  \n",
       "21649                    2      0      174705          0.000000  \n",
       "21685                    2      0       28201          0.000000  \n",
       "21665                    2      0      601942          0.000000  \n",
       "...                    ...    ...         ...               ...  \n",
       "21627                    0   1664       15237          0.109208  \n",
       "21616                    0  30961      553284          0.055959  \n",
       "21583                    0   2960       33739          0.087732  \n",
       "21594                    0   6294       74071          0.084973  \n",
       "21640                    0   2462       25473          0.096651  \n",
       "\n",
       "[21909 rows x 10 columns]"
      ]
     },
     "execution_count": 47,
     "metadata": {},
     "output_type": "execute_result"
    }
   ],
   "source": [
    "## Function to merge all dataframes\n",
    "\n",
    "def merge(df1, df2, df3, df4, df7):\n",
    "    df4_copy = df4.copy()\n",
    "    df7_copy = df7.copy()\n",
    "    df = df1.merge(df2, how = 'outer',  on =['date','County_Name'])\n",
    "    df5 = df.merge(df3, how = 'outer', on =['date','County_Name'])\n",
    " \n",
    "    df4_copy.County_Name = [d[1].strip() for d in df4.County_Name.items()]\n",
    "    df5.County_Name = [d[1].strip() for d in df5.County_Name.items()]\n",
    "    df7.County_Name = [d[1].strip() for d in df7.County_Name.items()]\n",
    "    df4_copy.County_Name = df4_copy.County_Name.astype(str)\n",
    "    df5.County_Name = df5.County_Name.astype(str)\n",
    "    df4_copy.sort_values(by='County_Name',inplace=True)\n",
    "    df6 = df5.merge(df4_copy, on=['County_Name','date'], how=\"outer\")\n",
    "    df8 = df6.merge(df7, on=['County_Name'], how=\"left\")\n",
    "    df8.sort_values(by='County_Name', inplace=True)\n",
    "   \n",
    "    start_date = '2020-03-11'\n",
    "    end_date = '2021-01-31'\n",
    "    after_start_date = df8[\"date\"] >= start_date\n",
    "\n",
    "    before_end_date = df8[\"date\"] <= end_date\n",
    "\n",
    "    between_two_dates = after_start_date & before_end_date\n",
    "\n",
    "    final = df8.loc[between_two_dates]\n",
    "    \n",
    "    final.sort_values(by = ['date','County_Name'], inplace = True)\n",
    "    final['Cases/Population'] = final.apply(lambda row: row.Cases/row.population, axis = 1)\n",
    "    final['Cases/Population'].fillna(0, inplace = True)\n",
    "    final.fillna('NA', inplace = True)\n",
    "    R = {'NA':0,'No restriction found':1,'Curbside/delivery only':2,'Open with limitations':3, 'Authorized to fully reopen':4}\n",
    "    final.Rest_order.replace(R, inplace=True)\n",
    "    M = {'NA':0,'No Public Mask Mandate' :1,'Public Mask Mandate':2}\n",
    "    final.Mask_order.replace(M, inplace=True)\n",
    "    F = {'NA':0,'Yes' :1}\n",
    "    final.Face_Masks_Required_in_Public.replace(F, inplace=True)\n",
    "    S = {'NA':0,'Ban of gatherings over 51-100 people' :1,'No order found':2}\n",
    "    final.With_SD_order_group.replace(S, inplace=True)\n",
    "    G = {'NA':0,'No order found':1,'Ban of gatherings over 11-25 people':2,'Ban of gatherings over 1-10 people':3,'Bans gatherings of any size':4}\n",
    "    final.General_GB_order_group.replace(G, inplace=True)\n",
    "    return final\n",
    "\n",
    "finaldfFL = merge(dfRFL, dfMFL, dfGFL, FL, FLpop)\n",
    "finaldfFL\n"
   ]
  },
  {
   "cell_type": "code",
   "execution_count": 49,
   "metadata": {},
   "outputs": [],
   "source": [
    "finaldfFL.to_csv('Data/Florida_data.csv', index = False)"
   ]
  },
  {
   "cell_type": "markdown",
   "metadata": {},
   "source": [
    "## Modeling"
   ]
  },
  {
   "cell_type": "code",
   "execution_count": 41,
   "metadata": {},
   "outputs": [],
   "source": [
    "y = finaldfFL['Cases/Population']\n",
    "X = finaldfFL.drop(columns = ['Cases/Population', 'County_Name','date','population','Cases'], axis = 1)"
   ]
  },
  {
   "cell_type": "code",
   "execution_count": 42,
   "metadata": {},
   "outputs": [],
   "source": [
    "x_train, x_test, y_train, y_test = train_test_split(X, y, test_size=0.50, random_state=42)"
   ]
  },
  {
   "cell_type": "code",
   "execution_count": 43,
   "metadata": {},
   "outputs": [],
   "source": [
    "## Model Evaluator Function\n",
    "def evaluator(X_train, y_train, X_test, y_test, model):   \n",
    "    start = time.time()\n",
    "    model.fit(X_train, y_train)\n",
    "    train_preds = model.predict(X_train)\n",
    "    test_preds = model.predict(X_test)\n",
    "    end = time.time()\n",
    "    print(\"Model Time: {}\".format(end-start))\n",
    "    print('R Squared Score is:', r2_score(y_test, test_preds))\n",
    "    print('Training:')\n",
    "    print('Mean Absolute Error:', mean_absolute_error(y_train, train_preds))  \n",
    "    print('Mean Squared Error:', mean_squared_error(y_train, train_preds))  \n",
    "    print('Root Mean Squared Error:', np.sqrt(mean_squared_error(y_train, train_preds)))\n",
    "    print('Testing:')\n",
    "    print('Mean Absolute Error:', mean_absolute_error(y_test, test_preds))  \n",
    "    print('Mean Squared Error:', mean_squared_error(y_test, test_preds))  \n",
    "    print('Root Mean Squared Error:', np.sqrt(mean_squared_error(y_test, test_preds)))"
   ]
  },
  {
   "cell_type": "code",
   "execution_count": 50,
   "metadata": {},
   "outputs": [
    {
     "name": "stdout",
     "output_type": "stream",
     "text": [
      "Model Time: 265.3503625392914\n",
      "R Squared Score is: 0.6336005838749678\n",
      "Training:\n",
      "Mean Absolute Error: 0.011234132871618884\n",
      "Mean Squared Error: 0.0003118080605059521\n",
      "Root Mean Squared Error: 0.017658087679756043\n",
      "Testing:\n",
      "Mean Absolute Error: 0.011297040577091784\n",
      "Mean Squared Error: 0.0003035919001125868\n",
      "Root Mean Squared Error: 0.017423888776980492\n"
     ]
    }
   ],
   "source": [
    "GBR=GradientBoostingRegressor()\n",
    "\n",
    "\n",
    "search_grid={'n_estimators':[100,200,500],'learning_rate':[.25,.4,.5],'max_depth':[4,7,10],'subsample':[.1,.25,.5],'random_state':[2,3]}\n",
    "\n",
    "GBR_grid=GridSearchCV(estimator=GBR,param_grid=search_grid, scoring = 'neg_mean_squared_error')\n",
    "\n",
    "evaluator(x_train, y_train, x_test, y_test, GBR_grid)"
   ]
  },
  {
   "cell_type": "code",
   "execution_count": 51,
   "metadata": {},
   "outputs": [
    {
     "data": {
      "text/plain": [
       "{'learning_rate': 0.4,\n",
       " 'max_depth': 7,\n",
       " 'n_estimators': 500,\n",
       " 'random_state': 2,\n",
       " 'subsample': 0.25}"
      ]
     },
     "execution_count": 51,
     "metadata": {},
     "output_type": "execute_result"
    }
   ],
   "source": [
    "GBR_grid.best_params_"
   ]
  },
  {
   "cell_type": "code",
   "execution_count": 52,
   "metadata": {},
   "outputs": [
    {
     "name": "stdout",
     "output_type": "stream",
     "text": [
      "Model Time: 0.8934111595153809\n",
      "R Squared Score is: 0.6336005838749678\n",
      "Training:\n",
      "Mean Absolute Error: 0.011234132871618884\n",
      "Mean Squared Error: 0.0003118080605059521\n",
      "Root Mean Squared Error: 0.017658087679756043\n",
      "Testing:\n",
      "Mean Absolute Error: 0.011297040577091784\n",
      "Mean Squared Error: 0.0003035919001125868\n",
      "Root Mean Squared Error: 0.017423888776980492\n"
     ]
    }
   ],
   "source": [
    "GBR_best = GradientBoostingRegressor(learning_rate = 0.4,\n",
    " max_depth = 7,\n",
    " n_estimators = 500,\n",
    " random_state= 2,\n",
    " subsample= 0.25)\n",
    "\n",
    "evaluator(x_train, y_train, x_test, y_test, GBR_best)"
   ]
  },
  {
   "cell_type": "code",
   "execution_count": 53,
   "metadata": {},
   "outputs": [],
   "source": [
    "## Function to view feature importance\n",
    "def plot_feature_importances(model):\n",
    "    n_features = x_train.shape[1]\n",
    "    plt.barh(range(n_features), model.feature_importances_) \n",
    "    plt.yticks(np.arange(n_features), x_train.columns.values) \n",
    "    plt.xlabel('Feature importance')\n",
    "    plt.ylabel('Feature')"
   ]
  },
  {
   "cell_type": "code",
   "execution_count": 54,
   "metadata": {},
   "outputs": [
    {
     "data": {
      "image/png": "[encoded data removed]",
      "text/plain": [
       "<Figure size 432x288 with 1 Axes>"
      ]
     },
     "metadata": {
      "needs_background": "light"
     },
     "output_type": "display_data"
    }
   ],
   "source": [
    "plot_feature_importances(GBR_best)"
   ]
  },
  {
   "cell_type": "code",
   "execution_count": 71,
   "metadata": {},
   "outputs": [
    {
     "data": {
      "text/plain": [
       "<seaborn.axisgrid.FacetGrid at 0x23d1408af60>"
      ]
     },
     "execution_count": 71,
     "metadata": {},
     "output_type": "execute_result"
    },
    {
     "data": {
      "image/png": "[encoded data removed]",
      "text/plain": [
       "<Figure size 1898x504 with 5 Axes>"
      ]
     },
     "metadata": {
      "needs_background": "light"
     },
     "output_type": "display_data"
    }
   ],
   "source": [
    "\n",
    "g = sns.FacetGrid(finaldfFL, col=\"Rest_order\", height = 7, aspect = .75)\n",
    "g.map(sns.histplot, \"date\", \"Cases/Population\", alpha=.9)\n",
    "g.add_legend()"
   ]
  },
  {
   "cell_type": "code",
   "execution_count": 78,
   "metadata": {},
   "outputs": [
    {
     "data": {
      "text/plain": [
       "<seaborn.axisgrid.FacetGrid at 0x23d169007f0>"
      ]
     },
     "execution_count": 78,
     "metadata": {},
     "output_type": "execute_result"
    },
    {
     "data": {
      "image/png": "[encoded data removed]",
      "text/plain": [
       "<Figure size 421.875x360 with 1 Axes>"
      ]
     },
     "metadata": {
      "needs_background": "light"
     },
     "output_type": "display_data"
    }
   ],
   "source": [
    "sns.color_palette(\"bright\")\n",
    "sns.displot(data = finaldfFL, x = \"date\", y = \"Cases/Population\", hue = \"Rest_order\", palette = \"bright\")"
   ]
  },
  {
   "cell_type": "code",
   "execution_count": 79,
   "metadata": {},
   "outputs": [
    {
     "data": {
      "text/plain": [
       "<seaborn.axisgrid.FacetGrid at 0x23d169b36a0>"
      ]
     },
     "execution_count": 79,
     "metadata": {},
     "output_type": "execute_result"
    },
    {
     "data": {
      "image/png": "[encoded data removed]",
      "text/plain": [
       "<Figure size 493x360 with 1 Axes>"
      ]
     },
     "metadata": {
      "needs_background": "light"
     },
     "output_type": "display_data"
    }
   ],
   "source": [
    "sns.displot(data = finaldfFL, x = \"date\", y = \"Cases/Population\", hue = \"General_GB_order_group\", palette = \"bright\")"
   ]
  },
  {
   "cell_type": "code",
   "execution_count": 82,
   "metadata": {},
   "outputs": [
    {
     "data": {
      "image/png": "[encoded data removed]",
      "text/plain": [
       "<Figure size 655.875x360 with 1 Axes>"
      ]
     },
     "metadata": {
      "needs_background": "light"
     },
     "output_type": "display_data"
    },
    {
     "data": {
      "image/png": "[encoded data removed]",
      "text/plain": [
       "<Figure size 752.875x360 with 1 Axes>"
      ]
     },
     "metadata": {
      "needs_background": "light"
     },
     "output_type": "display_data"
    },
    {
     "data": {
      "image/png": "[encoded data removed]",
      "text/plain": [
       "<Figure size 706.875x360 with 1 Axes>"
      ]
     },
     "metadata": {
      "needs_background": "light"
     },
     "output_type": "display_data"
    },
    {
     "data": {
      "image/png": "[encoded data removed]",
      "text/plain": [
       "<Figure size 698.125x360 with 1 Axes>"
      ]
     },
     "metadata": {
      "needs_background": "light"
     },
     "output_type": "display_data"
    },
    {
     "data": {
      "image/png": "[encoded data removed]",
      "text/plain": [
       "<Figure size 706x360 with 1 Axes>"
      ]
     },
     "metadata": {
      "needs_background": "light"
     },
     "output_type": "display_data"
    }
   ],
   "source": [
    "S = {0:'NA',1:'Ban of gatherings over 51-100 people',2:'No order found'}\n",
    "finaldfFL.With_SD_order_group.replace(S, inplace=True)\n",
    "G = {0:'NA',1:'No order found',2:'Ban of gatherings over 11-25 people',3:'Ban of gatherings over 1-10 people',4:'Bans gatherings of any size'}\n",
    "finaldfFL.General_GB_order_group.replace(G, inplace=True)\n",
    "M = {0:'NA',1:'No Public Mask Mandate',2:'Public Mask Mandate'}\n",
    "finaldfFL.Mask_order.replace(M, inplace=True)\n",
    "F = {0:'NA',1:'Yes'}\n",
    "finaldfFL.Face_Masks_Required_in_Public.replace(F, inplace=True)\n",
    "R = {0:'NA',1:'No restriction found',2:'Curbside/delivery only',3:'Open with limitations',4:'Authorized to fully reopen'}\n",
    "finaldfFL.Rest_order.replace(R, inplace=True)\n",
    "\n",
    "\n",
    "\n",
    "hues = [\"With_SD_order_group\",\"General_GB_order_group\",\"Face_Masks_Required_in_Public\",\"Mask_order\",\"Rest_order\"]\n",
    "\n",
    "\n",
    "for hue in hues:\n",
    "    sns.displot(data = finaldfFL, x = \"date\", y = \"Cases/Population\", hue = hue, palette = \"bright\", aspect = 1.5)\n",
    "    plt.title(f\"{hue}\")"
   ]
  },
  {
   "cell_type": "code",
   "execution_count": null,
   "metadata": {},
   "outputs": [],
   "source": []
  }
 ],
 "metadata": {
  "kernelspec": {
   "display_name": "Python [conda env:learn-env] *",
   "language": "python",
   "name": "conda-env-learn-env-py"
  },
  "language_info": {
   "codemirror_mode": {
    "name": "ipython",
    "version": 3
   },
   "file_extension": ".py",
   "mimetype": "text/x-python",
   "name": "python",
   "nbconvert_exporter": "python",
   "pygments_lexer": "ipython3",
   "version": "3.6.9"
  },
  "toc": {
   "base_numbering": 1,
   "nav_menu": {},
   "number_sections": true,
   "sideBar": true,
   "skip_h1_title": false,
   "title_cell": "Table of Contents",
   "title_sidebar": "Contents",
   "toc_cell": false,
   "toc_position": {},
   "toc_section_display": true,
   "toc_window_display": false
  }
 },
 "nbformat": 4,
 "nbformat_minor": 2
}
